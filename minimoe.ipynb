{
  "nbformat": 4,
  "nbformat_minor": 0,
  "metadata": {
    "colab": {
      "provenance": [],
      "toc_visible": true,
      "authorship_tag": "ABX9TyPgruXQHIn1wwTC1bSymzVT",
      "include_colab_link": true
    },
    "kernelspec": {
      "name": "python3",
      "display_name": "Python 3"
    },
    "language_info": {
      "name": "python"
    }
  },
  "cells": [
    {
      "cell_type": "markdown",
      "metadata": {
        "id": "view-in-github",
        "colab_type": "text"
      },
      "source": [
        "<a href=\"https://colab.research.google.com/github/muditbac/nn-learn-notebooks/blob/main/minimoe.ipynb\" target=\"_parent\"><img src=\"https://colab.research.google.com/assets/colab-badge.svg\" alt=\"Open In Colab\"/></a>"
      ]
    },
    {
      "cell_type": "markdown",
      "source": [
        "# Mini MoE\n",
        "In this colab, we will implement a basic version of MOE. MoE or Mixture of Experts is a layer to train multiple experts of which only few will be used during inference time. This way we can train large number of parameters among which only a subset will be used at a single inference. This allows us to train large number of parameters while keeping the inference light.\n",
        "- MoE layer can also be thought of as differential `if` condition, which learns to route to different subnetworks based on the data."
      ],
      "metadata": {
        "id": "ZeV0sawv9LwM"
      }
    },
    {
      "cell_type": "markdown",
      "source": [
        "We will train a MoE layer on sentiment classification task. The below code is built on top of [this](https://colab.research.google.com/github/bentrevett/pytorch-sentiment-analysis/blob/main/2%20-%20Recurrent%20Neural%20Ne)"
      ],
      "metadata": {
        "id": "XgSv07YE9GYd"
      }
    },
    {
      "cell_type": "markdown",
      "source": [
        "[Diagram Link](https://viewer.diagrams.net/?tags=%7B%7D&highlight=0000ff&edit=_blank&layers=1&nav=1&title=Untitled%20Diagram.drawio#R7VrbbuM2EP0aPybg%2FfK4cZIuiixQ1MF2%2B6i1aFu1LBoyfduvL2VRlmg6azW27KYoAkTScEiRZ87MkCP3cH%2B2%2BSWP5pMvOlZpD4F408OPPYSEEPZ%2FIdiWAipAKRjnSVyKYC0YJD%2BUE1ZqyyRWC0%2FRaJ2aZO4LhzrL1NB4sijP9dpXG%2BnUf%2Bs8GqtAMBhGaSj9I4nNxC0L8Vr%2BWSXjSfVmyGTZMosqZbeSxSSK9bohwk893M%2B1NuXdbNNXaYFdhUvZ7%2FmN1v3EcpWZNh3oarqdLs2Prw%2FL9NfR9nkFvt7duVFWUbp0C34ZvH5xEzbbCoX1JDFqMI%2BGxfPaGrqHHxYm19M9KHY5D24slRu1eXOScL90SxmlZ8rkW6viOiDm0HJ0gZSVz%2BsafOpGnTRwx8SZ3Jl7vB%2B5RsTeOFD%2BAUAoAOh3vTQqvx1EhGMfIgwCiBi6IkQ4gOhpM7crXNwOIyroSRoxcUWMSIBRP40WC3VDjDggpzFiV8SIhrEoMsVi3gdRKenrVOdWkunMaj%2BMkjQ9EF0ASszgaSiv6ZIsgDIAcbjMV6oYA%2B6winLzqUiXNS4qiyvJ91QPp4Vok5hvRZd7AATlgmCIOaJEurY%2FbRu4J0JIDqgQCFMkCdyNZVf1bdcKgG1jhEIGkQTYAlO1v9k718ss3s0V7O2l4iBvH1jLrlYv86E6nf3s4sfKnGJmaP1cpZFJVv48jtly19WCGW0bCnOdZC5GNk29H%2F%2F91ufdWx8yLCAgAgsOJPfMD5iVCcog5YRzbDl%2BYH%2BvL%2BOcHhBAIkYaDCBdMoC2ZADqlgFu5N8KQSPTE%2BGHFcIP6FKOeFHyiO7JwyAnWFYRwI8dR4zvkYcyJKmkewWfO4BIJpiUHHEbhO1gXXIHteQOvgV36OFG%2BhrckTcNPBJIhBGDREgqYJmU2lNH2kMdJZBLKG1ew%2FjfEHVuwpwg6kjZZM5ppvn63TCtKg90STVJMRXE8QW33uLc7bhmiWg32LT6u90eB7fkGvlYexwUnjoDAhT4Ddyjzs1Ej3UWpU%2B19AD1WudF67kjzl%2FKmK2rS0VLo61oYmapa71kOgFt9yLnbkbOK4iEnveqNuEhzRRCD6soTcaZvR9aaJQ9gD0UZ65kGKWfXMMsieOdWY4d8I45yHmlJujHLXSkjOJE3pkNdAVseP69BaPrlOnHrH0Ie9w0Gx%2B3HWys2u6skLhE0AozoPArbJj6I5Tzcp06CG1hzfFVT1VmLdau7Niwpl8EidUoWqbmaLmkvXeOdGaeo1mSFvB8VulKFXquwfEKIvccvrpZgqmlF3BoDH2zHXFofqx03JVD49COHz1FiZaOid%2Bw1JVSVHiG3TmQ3YiwHdniZGVvx8WtsZPoF0tC7ordNauU7RQa%2Bh8vz9kzzUm34Nd0C%2FLBvQC3LRvic89v5%2BEcftt7mn1XcZxkYyt%2Bibb%2Fp5Of%2BQ2t4vfbfgPRNfMJuYnjNEoo%2Fin2evtB3PYMe27WeVe9hOOD72jg4Dv8gT4S7Gf63dRL8JGPtFUwOJYWlUuLCvnX%2B%2Fv74uk%2FkxyZkKecXF7Gx%2B1j%2FVuP0qz1D2bw098%3D)"
      ],
      "metadata": {
        "id": "-u1tAX0VO-x9"
      }
    },
    {
      "cell_type": "markdown",
      "source": [
        "# Training"
      ],
      "metadata": {
        "id": "ImojKh5hJHFI"
      }
    },
    {
      "cell_type": "code",
      "source": [
        "!pip install datasets"
      ],
      "metadata": {
        "id": "6CC_ZR-QDwkQ",
        "outputId": "1a383b27-2b78-42a4-faca-20aa97d67db4",
        "colab": {
          "base_uri": "https://localhost:8080/"
        }
      },
      "execution_count": null,
      "outputs": [
        {
          "output_type": "stream",
          "name": "stdout",
          "text": [
            "Collecting datasets\n",
            "  Downloading datasets-2.18.0-py3-none-any.whl (510 kB)\n",
            "\u001b[2K     \u001b[90m━━━━━━━━━━━━━━━━━━━━━━━━━━━━━━━━━━━━━━━━\u001b[0m \u001b[32m510.5/510.5 kB\u001b[0m \u001b[31m8.1 MB/s\u001b[0m eta \u001b[36m0:00:00\u001b[0m\n",
            "\u001b[?25hRequirement already satisfied: filelock in /usr/local/lib/python3.10/dist-packages (from datasets) (3.13.1)\n",
            "Requirement already satisfied: numpy>=1.17 in /usr/local/lib/python3.10/dist-packages (from datasets) (1.25.2)\n",
            "Requirement already satisfied: pyarrow>=12.0.0 in /usr/local/lib/python3.10/dist-packages (from datasets) (14.0.2)\n",
            "Requirement already satisfied: pyarrow-hotfix in /usr/local/lib/python3.10/dist-packages (from datasets) (0.6)\n",
            "Collecting dill<0.3.9,>=0.3.0 (from datasets)\n",
            "  Downloading dill-0.3.8-py3-none-any.whl (116 kB)\n",
            "\u001b[2K     \u001b[90m━━━━━━━━━━━━━━━━━━━━━━━━━━━━━━━━━━━━━━━━\u001b[0m \u001b[32m116.3/116.3 kB\u001b[0m \u001b[31m12.6 MB/s\u001b[0m eta \u001b[36m0:00:00\u001b[0m\n",
            "\u001b[?25hRequirement already satisfied: pandas in /usr/local/lib/python3.10/dist-packages (from datasets) (1.5.3)\n",
            "Requirement already satisfied: requests>=2.19.0 in /usr/local/lib/python3.10/dist-packages (from datasets) (2.31.0)\n",
            "Requirement already satisfied: tqdm>=4.62.1 in /usr/local/lib/python3.10/dist-packages (from datasets) (4.66.2)\n",
            "Collecting xxhash (from datasets)\n",
            "  Downloading xxhash-3.4.1-cp310-cp310-manylinux_2_17_x86_64.manylinux2014_x86_64.whl (194 kB)\n",
            "\u001b[2K     \u001b[90m━━━━━━━━━━━━━━━━━━━━━━━━━━━━━━━━━━━━━━━━\u001b[0m \u001b[32m194.1/194.1 kB\u001b[0m \u001b[31m14.6 MB/s\u001b[0m eta \u001b[36m0:00:00\u001b[0m\n",
            "\u001b[?25hCollecting multiprocess (from datasets)\n",
            "  Downloading multiprocess-0.70.16-py310-none-any.whl (134 kB)\n",
            "\u001b[2K     \u001b[90m━━━━━━━━━━━━━━━━━━━━━━━━━━━━━━━━━━━━━━━━\u001b[0m \u001b[32m134.8/134.8 kB\u001b[0m \u001b[31m14.8 MB/s\u001b[0m eta \u001b[36m0:00:00\u001b[0m\n",
            "\u001b[?25hRequirement already satisfied: fsspec[http]<=2024.2.0,>=2023.1.0 in /usr/local/lib/python3.10/dist-packages (from datasets) (2023.6.0)\n",
            "Requirement already satisfied: aiohttp in /usr/local/lib/python3.10/dist-packages (from datasets) (3.9.3)\n",
            "Requirement already satisfied: huggingface-hub>=0.19.4 in /usr/local/lib/python3.10/dist-packages (from datasets) (0.20.3)\n",
            "Requirement already satisfied: packaging in /usr/local/lib/python3.10/dist-packages (from datasets) (24.0)\n",
            "Requirement already satisfied: pyyaml>=5.1 in /usr/local/lib/python3.10/dist-packages (from datasets) (6.0.1)\n",
            "Requirement already satisfied: aiosignal>=1.1.2 in /usr/local/lib/python3.10/dist-packages (from aiohttp->datasets) (1.3.1)\n",
            "Requirement already satisfied: attrs>=17.3.0 in /usr/local/lib/python3.10/dist-packages (from aiohttp->datasets) (23.2.0)\n",
            "Requirement already satisfied: frozenlist>=1.1.1 in /usr/local/lib/python3.10/dist-packages (from aiohttp->datasets) (1.4.1)\n",
            "Requirement already satisfied: multidict<7.0,>=4.5 in /usr/local/lib/python3.10/dist-packages (from aiohttp->datasets) (6.0.5)\n",
            "Requirement already satisfied: yarl<2.0,>=1.0 in /usr/local/lib/python3.10/dist-packages (from aiohttp->datasets) (1.9.4)\n",
            "Requirement already satisfied: async-timeout<5.0,>=4.0 in /usr/local/lib/python3.10/dist-packages (from aiohttp->datasets) (4.0.3)\n",
            "Requirement already satisfied: typing-extensions>=3.7.4.3 in /usr/local/lib/python3.10/dist-packages (from huggingface-hub>=0.19.4->datasets) (4.10.0)\n",
            "Requirement already satisfied: charset-normalizer<4,>=2 in /usr/local/lib/python3.10/dist-packages (from requests>=2.19.0->datasets) (3.3.2)\n",
            "Requirement already satisfied: idna<4,>=2.5 in /usr/local/lib/python3.10/dist-packages (from requests>=2.19.0->datasets) (3.6)\n",
            "Requirement already satisfied: urllib3<3,>=1.21.1 in /usr/local/lib/python3.10/dist-packages (from requests>=2.19.0->datasets) (2.0.7)\n",
            "Requirement already satisfied: certifi>=2017.4.17 in /usr/local/lib/python3.10/dist-packages (from requests>=2.19.0->datasets) (2024.2.2)\n",
            "Requirement already satisfied: python-dateutil>=2.8.1 in /usr/local/lib/python3.10/dist-packages (from pandas->datasets) (2.8.2)\n",
            "Requirement already satisfied: pytz>=2020.1 in /usr/local/lib/python3.10/dist-packages (from pandas->datasets) (2023.4)\n",
            "Requirement already satisfied: six>=1.5 in /usr/local/lib/python3.10/dist-packages (from python-dateutil>=2.8.1->pandas->datasets) (1.16.0)\n",
            "Installing collected packages: xxhash, dill, multiprocess, datasets\n",
            "Successfully installed datasets-2.18.0 dill-0.3.8 multiprocess-0.70.16 xxhash-3.4.1\n"
          ]
        }
      ]
    },
    {
      "cell_type": "code",
      "execution_count": null,
      "metadata": {
        "id": "f23a152d"
      },
      "outputs": [],
      "source": [
        "import collections\n",
        "\n",
        "import datasets\n",
        "import matplotlib.pyplot as plt\n",
        "import numpy as np\n",
        "import torch\n",
        "import torch.nn as nn\n",
        "import torch.nn.functional as F\n",
        "import torch.optim as optim\n",
        "\n",
        "import torchtext\n",
        "import tqdm"
      ]
    },
    {
      "cell_type": "code",
      "execution_count": null,
      "metadata": {
        "id": "c661e3c4"
      },
      "outputs": [],
      "source": [
        "seed = 1234\n",
        "\n",
        "np.random.seed(seed)\n",
        "torch.manual_seed(seed)\n",
        "torch.cuda.manual_seed(seed)\n",
        "torch.backends.cudnn.deterministic = True"
      ]
    },
    {
      "cell_type": "code",
      "execution_count": null,
      "metadata": {
        "id": "638a120e"
      },
      "outputs": [],
      "source": [
        "td, ttd = train_data, test_data = datasets.load_dataset(\"imdb\", split=[\"train\", \"test\"])"
      ]
    },
    {
      "cell_type": "code",
      "execution_count": null,
      "metadata": {
        "id": "7b34799a"
      },
      "outputs": [],
      "source": [
        "tokenizer = torchtext.data.utils.get_tokenizer(\"basic_english\")"
      ]
    },
    {
      "cell_type": "code",
      "execution_count": null,
      "metadata": {
        "id": "6fa2f2e3"
      },
      "outputs": [],
      "source": [
        "def tokenize_example(example, tokenizer, max_length):\n",
        "    tokens = tokenizer(example[\"text\"])[:max_length]\n",
        "    length = len(tokens)\n",
        "    return {\"tokens\": tokens, \"length\": length}"
      ]
    },
    {
      "cell_type": "code",
      "execution_count": null,
      "metadata": {
        "id": "1f3a3894",
        "colab": {
          "base_uri": "https://localhost:8080/",
          "height": 81,
          "referenced_widgets": [
            "9f4c54ca914040d180f4b8a3fe7c83f7",
            "c6458f0312ba45c784e384e208e7e83e",
            "b69f5e4493f74f3eb40c99fedaf5c14e",
            "2d83c61d0a514830b39be1a81880ebd0",
            "34d3885cae254e1096e34eece5399ccc",
            "71bd2da6a6ec45b2a27e0b364d18d0b2",
            "74b1816661b044608d354b67023b3216",
            "2ef99cac182c4d5abcca2e62d1922286",
            "e5e19773de7648008017a094287d2ddd",
            "585f67abb72149e58b52564ae1e54d2a",
            "162183062d9d452c875c785fc3dc14a4",
            "b3506723d1174696910cb238717ad71f",
            "8e12396fb0204858a435b20c7c1cbd03",
            "39e0f6c44be84921af0a53023b88d8ed",
            "a2c4b1388c1047be990874b96cbf4baf",
            "3abf25c54bbf438badd7d7b345c24d6a",
            "10654bfa6a8b48cebb8f0669f8f94b28",
            "7a21440d842845dd9f57f1d77c2bdf6d",
            "86c8fa73bda946bf89afcfda38f43eb8",
            "0f09757d9cb24ecea723e68a23df7a0a",
            "88f7d900150c4764b844f5ab0b1a4277",
            "6cc6f48c491247d3bb23c301c84a84c2"
          ]
        },
        "outputId": "65a90576-2040-4e0e-9a58-a6868c478c67"
      },
      "outputs": [
        {
          "output_type": "display_data",
          "data": {
            "text/plain": [
              "Map:   0%|          | 0/25000 [00:00<?, ? examples/s]"
            ],
            "application/vnd.jupyter.widget-view+json": {
              "version_major": 2,
              "version_minor": 0,
              "model_id": "9f4c54ca914040d180f4b8a3fe7c83f7"
            }
          },
          "metadata": {}
        },
        {
          "output_type": "display_data",
          "data": {
            "text/plain": [
              "Map:   0%|          | 0/25000 [00:00<?, ? examples/s]"
            ],
            "application/vnd.jupyter.widget-view+json": {
              "version_major": 2,
              "version_minor": 0,
              "model_id": "b3506723d1174696910cb238717ad71f"
            }
          },
          "metadata": {}
        }
      ],
      "source": [
        "max_length = 256\n",
        "\n",
        "train_data = train_data.map(\n",
        "    tokenize_example, fn_kwargs={\"tokenizer\": tokenizer, \"max_length\": max_length}\n",
        ")\n",
        "test_data = test_data.map(\n",
        "    tokenize_example, fn_kwargs={\"tokenizer\": tokenizer, \"max_length\": max_length}\n",
        ")"
      ]
    },
    {
      "cell_type": "code",
      "execution_count": null,
      "metadata": {
        "id": "7e5bd85d"
      },
      "outputs": [],
      "source": [
        "test_size = 0.25\n",
        "\n",
        "train_valid_data = train_data.train_test_split(test_size=test_size)\n",
        "train_data = train_valid_data[\"train\"]\n",
        "valid_data = train_valid_data[\"test\"]"
      ]
    },
    {
      "cell_type": "code",
      "execution_count": null,
      "metadata": {
        "id": "0bf984df"
      },
      "outputs": [],
      "source": [
        "min_freq = 5\n",
        "special_tokens = [\"<unk>\", \"<pad>\"]\n",
        "\n",
        "vocab = torchtext.vocab.build_vocab_from_iterator(\n",
        "    train_data[\"tokens\"],\n",
        "    min_freq=min_freq,\n",
        "    specials=special_tokens,\n",
        ")"
      ]
    },
    {
      "cell_type": "code",
      "execution_count": null,
      "metadata": {
        "id": "5147a8fd"
      },
      "outputs": [],
      "source": [
        "unk_index = vocab[\"<unk>\"]\n",
        "pad_index = vocab[\"<pad>\"]"
      ]
    },
    {
      "cell_type": "code",
      "execution_count": null,
      "metadata": {
        "id": "8b97bda7"
      },
      "outputs": [],
      "source": [
        "vocab.set_default_index(unk_index)"
      ]
    },
    {
      "cell_type": "code",
      "execution_count": null,
      "metadata": {
        "id": "843282aa"
      },
      "outputs": [],
      "source": [
        "def numericalize_example(example, vocab):\n",
        "    ids = vocab.lookup_indices(example[\"tokens\"])\n",
        "    return {\"ids\": ids}"
      ]
    },
    {
      "cell_type": "code",
      "execution_count": null,
      "metadata": {
        "id": "885b504a",
        "colab": {
          "base_uri": "https://localhost:8080/",
          "height": 113,
          "referenced_widgets": [
            "627a76e790fb4c2ab3b99ea7bdf60d34",
            "041b1ec0145f40639cb4d4772ecf2d71",
            "f756e4d0fae847e0be2fd873d35a7d53",
            "9f133986111e46a69747b1c725d70933",
            "c0521bcec6be4cc8bfca543a2bc82a3f",
            "0025e33fe0be48e9b1c9dbe47f8b7596",
            "bf4bce1bfcfe442d850df6503b0e4aaa",
            "e122cdb4112a4fa297733ac921187de3",
            "86dd4213348f4289b219866c3c1c5521",
            "93c6f2703f594b2aa217a642b7e1f1fd",
            "40c99990e4c4403da54ba61b1e0dabcf",
            "a1568df61d1c49df8320d12904831881",
            "4f3c768c8e9c46b1be9b1dfca4a744ad",
            "177e51d13dd340639a2ee632ee9b8cce",
            "bc6768e3378940c1b340d3c24df0f292",
            "764beaa1587142dd8cde286d0be0f881",
            "f323ec5f57094e2d91bec7cbab2093d7",
            "d99f166b7fb344109ba8b8425a37f244",
            "a99669077a8d4bc4b0f2d7e9a4b07906",
            "f3051cbe162046608b7ebea48f7e4c89",
            "cbfbfd1693074bacbf95cba69e33c6f0",
            "b0216311af724e8faf7f72485655749f",
            "908eb02115014d788ce20bb88a6ed4f6",
            "6eabcdf8732b4ab391c95348dc9e87f4",
            "4325642786f24b278c2879aadda5e97e",
            "73aa84aaad3243d4976f1a9722d2fd76",
            "6473673de467446fb37a0f3c9eec0ccc",
            "7b30f263fc5146129cafb106fbc94deb",
            "270c11e575f14c74823708baa0dfb8dc",
            "a25e3e305fb94d74a4da2fb3093bd30c",
            "ef2dc83ec3ba4cdd99da2b3036724af5",
            "72149e63ab8048e09bcc4b2552f214be",
            "e632eea4b47c4f28b5cfff8c53b51cfb"
          ]
        },
        "outputId": "689cb48e-62c7-4b1f-8aed-abcc08c001e2"
      },
      "outputs": [
        {
          "output_type": "display_data",
          "data": {
            "text/plain": [
              "Map:   0%|          | 0/18750 [00:00<?, ? examples/s]"
            ],
            "application/vnd.jupyter.widget-view+json": {
              "version_major": 2,
              "version_minor": 0,
              "model_id": "627a76e790fb4c2ab3b99ea7bdf60d34"
            }
          },
          "metadata": {}
        },
        {
          "output_type": "display_data",
          "data": {
            "text/plain": [
              "Map:   0%|          | 0/6250 [00:00<?, ? examples/s]"
            ],
            "application/vnd.jupyter.widget-view+json": {
              "version_major": 2,
              "version_minor": 0,
              "model_id": "a1568df61d1c49df8320d12904831881"
            }
          },
          "metadata": {}
        },
        {
          "output_type": "display_data",
          "data": {
            "text/plain": [
              "Map:   0%|          | 0/25000 [00:00<?, ? examples/s]"
            ],
            "application/vnd.jupyter.widget-view+json": {
              "version_major": 2,
              "version_minor": 0,
              "model_id": "908eb02115014d788ce20bb88a6ed4f6"
            }
          },
          "metadata": {}
        }
      ],
      "source": [
        "train_data = train_data.map(numericalize_example, fn_kwargs={\"vocab\": vocab})\n",
        "valid_data = valid_data.map(numericalize_example, fn_kwargs={\"vocab\": vocab})\n",
        "test_data = test_data.map(numericalize_example, fn_kwargs={\"vocab\": vocab})"
      ]
    },
    {
      "cell_type": "code",
      "execution_count": null,
      "metadata": {
        "id": "2b956558"
      },
      "outputs": [],
      "source": [
        "train_data = train_data.with_format(type=\"torch\", columns=[\"ids\", \"label\", \"length\"])\n",
        "valid_data = valid_data.with_format(type=\"torch\", columns=[\"ids\", \"label\", \"length\"])\n",
        "test_data = test_data.with_format(type=\"torch\", columns=[\"ids\", \"label\", \"length\"])"
      ]
    },
    {
      "cell_type": "code",
      "execution_count": null,
      "metadata": {
        "id": "53575424",
        "outputId": "419f4155-3a93-45bb-d371-77b933b55b32",
        "colab": {
          "base_uri": "https://localhost:8080/"
        }
      },
      "outputs": [
        {
          "output_type": "execute_result",
          "data": {
            "text/plain": [
              "{'label': tensor(1),\n",
              " 'length': tensor(135),\n",
              " 'ids': tensor([  180,     4,    14,    10,   191,   841,    34,     7,     2,   121,\n",
              "            98,   816,    50,     8,  1516,     2,   380,     7,     2,   184,\n",
              "             3,     8,   805,    14,    18,    10,     8,   805,  2246,   429,\n",
              "             3,    12,   347,    15,     2,   388,  1025,     9,    16,    76,\n",
              "             5,    64,     7, 11198,     3,     2,  9212,    17,   761,     4,\n",
              "          7812,  5460,   198,    37,     4,     6,  3653,  3683,    17,   226,\n",
              "             5, 11893,     3,    53,     7,    15,  3310,   354,     5,   689,\n",
              "             4,     0,  5471,     3,  2706,  3826,     9,    16,   246,    13,\n",
              "            14,    18,  1111,    33,    17,   126,   188,     8,    35,   597,\n",
              "           181,    19,     5,    34,  3942,  1381,    13,     2,  5370,     3,\n",
              "            32,  4228,    10,    41,  2825,     8,    37,     3,     2,  4411,\n",
              "          1141,   213,  2655,     6, 16946,  3729,   590,  4845,     8,  2416,\n",
              "             6,  1953,     3,  1159, 20751,    10,     5,  8718,     3,   149,\n",
              "            74,    14,    18,  4292,    36])}"
            ]
          },
          "metadata": {},
          "execution_count": 15
        }
      ],
      "source": [
        "train_data[0]"
      ]
    },
    {
      "cell_type": "code",
      "execution_count": null,
      "metadata": {
        "id": "3a5e5883"
      },
      "outputs": [],
      "source": [
        "def get_collate_fn(pad_index):\n",
        "    def collate_fn(batch):\n",
        "        batch_ids = [i[\"ids\"] for i in batch]\n",
        "        batch_ids = nn.utils.rnn.pad_sequence(\n",
        "            batch_ids, padding_value=pad_index, batch_first=True\n",
        "        )\n",
        "        batch_length = [i[\"length\"] for i in batch]\n",
        "        batch_length = torch.stack(batch_length)\n",
        "        batch_label = [i[\"label\"] for i in batch]\n",
        "        batch_label = torch.stack(batch_label)\n",
        "        batch = {\"ids\": batch_ids, \"length\": batch_length, \"label\": batch_label}\n",
        "        return batch\n",
        "\n",
        "    return collate_fn"
      ]
    },
    {
      "cell_type": "code",
      "execution_count": null,
      "metadata": {
        "id": "6a2bb50a"
      },
      "outputs": [],
      "source": [
        "def get_data_loader(dataset, batch_size, pad_index, shuffle=False):\n",
        "    collate_fn = get_collate_fn(pad_index)\n",
        "    data_loader = torch.utils.data.DataLoader(\n",
        "        dataset=dataset,\n",
        "        batch_size=batch_size,\n",
        "        collate_fn=collate_fn,\n",
        "        shuffle=shuffle,\n",
        "    )\n",
        "    return data_loader"
      ]
    },
    {
      "cell_type": "code",
      "execution_count": null,
      "metadata": {
        "id": "2d8f0a73"
      },
      "outputs": [],
      "source": [
        "batch_size = 512\n",
        "\n",
        "train_data_loader = get_data_loader(train_data, batch_size, pad_index, shuffle=True)\n",
        "valid_data_loader = get_data_loader(valid_data, batch_size, pad_index)\n",
        "test_data_loader = get_data_loader(test_data, batch_size, pad_index)"
      ]
    },
    {
      "cell_type": "code",
      "source": [
        "class GatingLayer(nn.Module):\n",
        "\n",
        "\n",
        "  def __init__(self, ngates, hidden=256, k=2):\n",
        "    super().__init__()\n",
        "\n",
        "    self.linear_layer_router = nn.Linear(hidden, ngates, bias=False)\n",
        "    self.linear_layer_noise = nn.Linear(hidden, ngates, bias=False)\n",
        "    self.hidden = hidden\n",
        "    self.k = k\n",
        "\n",
        "  def forward(self, state):\n",
        "    # state -> (batch size, hidden )\n",
        "    bs = state.shape[0]\n",
        "    h = self.linear_layer_router(state)\n",
        "    l = self.linear_layer_noise(state)\n",
        "    ret = h + F.softplus(l)*torch.randn_like(l)\n",
        "\n",
        "    # ret -> batch size x ngates\n",
        "    vals, idx = ret.topk(self.k, dim=1)\n",
        "    topk = torch.zeros_like(ret)\n",
        "    topk.fill_(float('-inf'))\n",
        "    topk.scatter_(-1, idx, vals)\n",
        "    return F.softmax(topk, dim=1)\n",
        "\n",
        "\n",
        "\n",
        "g = GatingLayer(4, 100, k=2)\n",
        "q = torch.randn(16, 100)\n",
        "g(q)"
      ],
      "metadata": {
        "id": "AK8chdjAitO5",
        "colab": {
          "base_uri": "https://localhost:8080/"
        },
        "outputId": "d4b30b83-d162-4902-929d-e8bf3c37724e"
      },
      "execution_count": null,
      "outputs": [
        {
          "output_type": "execute_result",
          "data": {
            "text/plain": [
              "tensor([[0.4097, 0.0000, 0.5903, 0.0000],\n",
              "        [0.7055, 0.0000, 0.0000, 0.2945],\n",
              "        [0.5808, 0.4192, 0.0000, 0.0000],\n",
              "        [0.0000, 0.5688, 0.4312, 0.0000],\n",
              "        [0.0000, 0.5139, 0.4861, 0.0000],\n",
              "        [0.0000, 0.2638, 0.0000, 0.7362],\n",
              "        [0.0000, 0.2538, 0.7462, 0.0000],\n",
              "        [0.6833, 0.0000, 0.0000, 0.3167],\n",
              "        [0.5427, 0.0000, 0.0000, 0.4573],\n",
              "        [0.3340, 0.0000, 0.0000, 0.6660],\n",
              "        [0.0000, 0.4470, 0.5530, 0.0000],\n",
              "        [0.4729, 0.0000, 0.0000, 0.5271],\n",
              "        [0.4317, 0.0000, 0.5683, 0.0000],\n",
              "        [0.3335, 0.0000, 0.6665, 0.0000],\n",
              "        [0.0000, 0.0000, 0.3802, 0.6198],\n",
              "        [0.7243, 0.0000, 0.2757, 0.0000]], grad_fn=<SoftmaxBackward0>)"
            ]
          },
          "metadata": {},
          "execution_count": 19
        }
      ]
    },
    {
      "cell_type": "code",
      "execution_count": null,
      "metadata": {
        "id": "53427b55"
      },
      "outputs": [],
      "source": [
        "class LSTM(nn.Module):\n",
        "    def __init__(\n",
        "        self,\n",
        "        vocab_size,\n",
        "        embedding_dim,\n",
        "        hidden_dim,\n",
        "        output_dim,\n",
        "        n_layers,\n",
        "        bidirectional,\n",
        "        dropout_rate,\n",
        "        pad_index, k=2\n",
        "    ):\n",
        "        super().__init__()\n",
        "        self.embedding = nn.Embedding(vocab_size, embedding_dim, padding_idx=pad_index)\n",
        "        self.lstm = nn.LSTM(\n",
        "            embedding_dim,\n",
        "            hidden_dim,\n",
        "            n_layers,\n",
        "            bidirectional=bidirectional,\n",
        "            dropout=dropout_rate if n_layers > 1 else 0,\n",
        "            batch_first=True,\n",
        "        )\n",
        "        hs = hidden_dim * 2 if bidirectional else hidden_dim\n",
        "        self.dropout = nn.Dropout(dropout_rate)\n",
        "\n",
        "\n",
        "        nexperts = 4\n",
        "        self.expert_networks = nn.ModuleList([nn.Linear(hs, output_dim) for i in range(nexperts)])\n",
        "\n",
        "        self.gating_layer = GatingLayer(nexperts, hs, k=k)\n",
        "\n",
        "    def forward(self, ids, length):\n",
        "        # ids = [batch size, seq len]\n",
        "        # length = [batch size]\n",
        "        embedded = self.dropout(self.embedding(ids))\n",
        "        # embedded = [batch size, seq len, embedding dim]\n",
        "        packed_embedded = nn.utils.rnn.pack_padded_sequence(\n",
        "            embedded, length, batch_first=True, enforce_sorted=False\n",
        "        )\n",
        "        packed_output, (hidden, cell) = self.lstm(packed_embedded)\n",
        "        # hidden = [n layers * n directions, batch size, hidden dim]\n",
        "        # cell = [n layers * n directions, batch size, hidden dim]\n",
        "        output, output_length = nn.utils.rnn.pad_packed_sequence(packed_output)\n",
        "        # output = [batch size, seq len, hidden dim * n directions]\n",
        "        if self.lstm.bidirectional:\n",
        "            hidden = self.dropout(torch.cat([hidden[-1], hidden[-2]], dim=-1))\n",
        "            # hidden = [batch size, hidden dim * 2]\n",
        "        else:\n",
        "            hidden = self.dropout(hidden[-1])\n",
        "            # hidden = [batch size, hidden dim]\n",
        "\n",
        "        gated = self.gating_layer(hidden) # [bs x ngates]\n",
        "        experts = [f(hidden) for f in self.expert_networks]\n",
        "        experts = torch.stack(experts, dim=0) # [ngates x bs x classes]\n",
        "\n",
        "        prediction = torch.einsum(\"bg,gbc->bc\", gated, experts)\n",
        "\n",
        "        # prediction = self.fc(hidden)\n",
        "        # prediction = [batch size, output dim]\n",
        "        return prediction"
      ]
    },
    {
      "cell_type": "code",
      "execution_count": null,
      "metadata": {
        "id": "11206188"
      },
      "outputs": [],
      "source": [
        "vocab_size = len(vocab)\n",
        "embedding_dim = 300\n",
        "hidden_dim = 100\n",
        "output_dim = len(train_data.unique(\"label\"))\n",
        "n_layers = 1\n",
        "bidirectional = False\n",
        "dropout_rate = 0.5\n",
        "\n",
        "model = LSTM(\n",
        "    vocab_size,\n",
        "    embedding_dim,\n",
        "    hidden_dim,\n",
        "    output_dim,\n",
        "    n_layers,\n",
        "    bidirectional,\n",
        "    dropout_rate,\n",
        "    pad_index,\n",
        ")"
      ]
    },
    {
      "cell_type": "code",
      "execution_count": null,
      "metadata": {
        "id": "5feb9512",
        "outputId": "d6f7cac3-44a8-4c4a-9958-bdaeac8cf5f5",
        "colab": {
          "base_uri": "https://localhost:8080/"
        }
      },
      "outputs": [
        {
          "output_type": "stream",
          "name": "stdout",
          "text": [
            "The model has 6,652,908 trainable parameters\n"
          ]
        }
      ],
      "source": [
        "def count_parameters(model):\n",
        "    return sum(p.numel() for p in model.parameters() if p.requires_grad)\n",
        "\n",
        "\n",
        "print(f\"The model has {count_parameters(model):,} trainable parameters\")"
      ]
    },
    {
      "cell_type": "code",
      "source": [
        "model"
      ],
      "metadata": {
        "colab": {
          "base_uri": "https://localhost:8080/"
        },
        "id": "fqQVRm0uooHX",
        "outputId": "dc3e174d-c891-49d4-ced9-5b11c13a8409"
      },
      "execution_count": null,
      "outputs": [
        {
          "output_type": "execute_result",
          "data": {
            "text/plain": [
              "LSTM(\n",
              "  (embedding): Embedding(21635, 300, padding_idx=1)\n",
              "  (lstm): LSTM(300, 100, batch_first=True)\n",
              "  (dropout): Dropout(p=0.5, inplace=False)\n",
              "  (expert_networks): ModuleList(\n",
              "    (0-3): 4 x Linear(in_features=100, out_features=2, bias=True)\n",
              "  )\n",
              "  (gating_layer): GatingLayer(\n",
              "    (linear_layer_router): Linear(in_features=100, out_features=4, bias=False)\n",
              "    (linear_layer_noise): Linear(in_features=100, out_features=4, bias=False)\n",
              "  )\n",
              ")"
            ]
          },
          "metadata": {},
          "execution_count": 23
        }
      ]
    },
    {
      "cell_type": "code",
      "execution_count": null,
      "metadata": {
        "id": "3edc8e02"
      },
      "outputs": [],
      "source": [
        "def initialize_weights(m):\n",
        "    if isinstance(m, nn.Linear):\n",
        "        nn.init.xavier_normal_(m.weight)\n",
        "        if m.bias is not None:\n",
        "          nn.init.zeros_(m.bias)\n",
        "    elif isinstance(m, nn.LSTM):\n",
        "        for name, param in m.named_parameters():\n",
        "            if \"bias\" in name:\n",
        "                nn.init.zeros_(param)\n",
        "            elif \"weight\" in name:\n",
        "                nn.init.orthogonal_(param)"
      ]
    },
    {
      "cell_type": "code",
      "execution_count": null,
      "metadata": {
        "id": "98490c40",
        "outputId": "2108aa4a-c74f-45a6-b5f5-ac7d9481153b",
        "colab": {
          "base_uri": "https://localhost:8080/"
        }
      },
      "outputs": [
        {
          "output_type": "execute_result",
          "data": {
            "text/plain": [
              "LSTM(\n",
              "  (embedding): Embedding(21635, 300, padding_idx=1)\n",
              "  (lstm): LSTM(300, 100, batch_first=True)\n",
              "  (dropout): Dropout(p=0.5, inplace=False)\n",
              "  (expert_networks): ModuleList(\n",
              "    (0-3): 4 x Linear(in_features=100, out_features=2, bias=True)\n",
              "  )\n",
              "  (gating_layer): GatingLayer(\n",
              "    (linear_layer_router): Linear(in_features=100, out_features=4, bias=False)\n",
              "    (linear_layer_noise): Linear(in_features=100, out_features=4, bias=False)\n",
              "  )\n",
              ")"
            ]
          },
          "metadata": {},
          "execution_count": 25
        }
      ],
      "source": [
        "model.apply(initialize_weights)"
      ]
    },
    {
      "cell_type": "code",
      "execution_count": null,
      "metadata": {
        "id": "72bfd654",
        "colab": {
          "base_uri": "https://localhost:8080/"
        },
        "outputId": "5da8aede-cd56-4b47-e08d-524c867f73ed"
      },
      "outputs": [
        {
          "output_type": "stream",
          "name": "stderr",
          "text": [
            ".vector_cache/glove.840B.300d.zip: 2.18GB [06:51, 5.29MB/s]                            \n",
            "100%|█████████▉| 2196016/2196017 [04:57<00:00, 7371.04it/s]\n"
          ]
        }
      ],
      "source": [
        "vectors = torchtext.vocab.GloVe()\n",
        "pretrained_embedding = vectors.get_vecs_by_tokens(vocab.get_itos())\n",
        "model.embedding.weight.data = pretrained_embedding"
      ]
    },
    {
      "cell_type": "code",
      "execution_count": null,
      "metadata": {
        "id": "e2d0b14e"
      },
      "outputs": [],
      "source": [
        "lr = 5e-4\n",
        "\n",
        "optimizer = optim.Adam(model.parameters(), lr=lr)"
      ]
    },
    {
      "cell_type": "code",
      "execution_count": null,
      "metadata": {
        "id": "d798a6bd"
      },
      "outputs": [],
      "source": [
        "criterion = nn.CrossEntropyLoss()"
      ]
    },
    {
      "cell_type": "code",
      "source": [
        "torch.cuda.is_available()"
      ],
      "metadata": {
        "id": "KZxwXIAYJCy_",
        "outputId": "5f32bbda-f3fb-4a07-9562-77043e1f182c",
        "colab": {
          "base_uri": "https://localhost:8080/"
        }
      },
      "execution_count": null,
      "outputs": [
        {
          "output_type": "execute_result",
          "data": {
            "text/plain": [
              "True"
            ]
          },
          "metadata": {},
          "execution_count": 29
        }
      ]
    },
    {
      "cell_type": "code",
      "execution_count": null,
      "metadata": {
        "id": "4a780705",
        "outputId": "4b79917f-3bac-4e6d-b2e9-f042a0361f4e",
        "colab": {
          "base_uri": "https://localhost:8080/"
        }
      },
      "outputs": [
        {
          "output_type": "execute_result",
          "data": {
            "text/plain": [
              "device(type='cuda')"
            ]
          },
          "metadata": {},
          "execution_count": 30
        }
      ],
      "source": [
        "device = torch.device(\"cuda\" if torch.cuda.is_available() else \"cpu\")\n",
        "\n",
        "device"
      ]
    },
    {
      "cell_type": "code",
      "execution_count": null,
      "metadata": {
        "id": "5c8302f0"
      },
      "outputs": [],
      "source": [
        "model = model.to(device)\n",
        "criterion = criterion.to(device)"
      ]
    },
    {
      "cell_type": "code",
      "execution_count": null,
      "metadata": {
        "id": "8a1e9b07"
      },
      "outputs": [],
      "source": [
        "def train(dataloader, model, criterion, optimizer, device):\n",
        "    model.train()\n",
        "    epoch_losses = []\n",
        "    epoch_accs = []\n",
        "    for batch in tqdm.tqdm(dataloader, desc=\"training...\"):\n",
        "        ids = batch[\"ids\"].to(device)\n",
        "        length = batch[\"length\"]\n",
        "        label = batch[\"label\"].to(device)\n",
        "        prediction = model(ids, length)\n",
        "        loss = criterion(prediction, label)\n",
        "        accuracy = get_accuracy(prediction, label)\n",
        "        optimizer.zero_grad()\n",
        "        loss.backward()\n",
        "        optimizer.step()\n",
        "        epoch_losses.append(loss.item())\n",
        "        epoch_accs.append(accuracy.item())\n",
        "    return np.mean(epoch_losses), np.mean(epoch_accs)"
      ]
    },
    {
      "cell_type": "code",
      "execution_count": null,
      "metadata": {
        "id": "c7988786"
      },
      "outputs": [],
      "source": [
        "def evaluate(dataloader, model, criterion, device):\n",
        "    model.eval()\n",
        "    epoch_losses = []\n",
        "    epoch_accs = []\n",
        "    with torch.no_grad():\n",
        "        for batch in tqdm.tqdm(dataloader, desc=\"evaluating...\"):\n",
        "            ids = batch[\"ids\"].to(device)\n",
        "            length = batch[\"length\"]\n",
        "            label = batch[\"label\"].to(device)\n",
        "            prediction = model(ids, length)\n",
        "            loss = criterion(prediction, label)\n",
        "            accuracy = get_accuracy(prediction, label)\n",
        "            epoch_losses.append(loss.item())\n",
        "            epoch_accs.append(accuracy.item())\n",
        "    return np.mean(epoch_losses), np.mean(epoch_accs)"
      ]
    },
    {
      "cell_type": "code",
      "execution_count": null,
      "metadata": {
        "id": "d66535bd"
      },
      "outputs": [],
      "source": [
        "def get_accuracy(prediction, label):\n",
        "    batch_size, _ = prediction.shape\n",
        "    predicted_classes = prediction.argmax(dim=-1)\n",
        "    correct_predictions = predicted_classes.eq(label).sum()\n",
        "    accuracy = correct_predictions / batch_size\n",
        "    return accuracy"
      ]
    },
    {
      "cell_type": "code",
      "execution_count": null,
      "metadata": {
        "id": "24c05b57",
        "outputId": "be3435ec-dd93-47b3-eaa7-160837b7c9bd",
        "colab": {
          "base_uri": "https://localhost:8080/"
        }
      },
      "outputs": [
        {
          "output_type": "stream",
          "name": "stderr",
          "text": [
            "training...: 100%|██████████| 37/37 [00:05<00:00,  6.70it/s]\n",
            "evaluating...: 100%|██████████| 13/13 [00:00<00:00, 16.26it/s]\n"
          ]
        },
        {
          "output_type": "stream",
          "name": "stdout",
          "text": [
            "epoch: 0\n",
            "train_loss: 0.692, train_acc: 0.528\n",
            "valid_loss: 0.679, valid_acc: 0.584\n"
          ]
        },
        {
          "output_type": "stream",
          "name": "stderr",
          "text": [
            "training...: 100%|██████████| 37/37 [00:03<00:00, 12.27it/s]\n",
            "evaluating...: 100%|██████████| 13/13 [00:00<00:00, 25.17it/s]\n"
          ]
        },
        {
          "output_type": "stream",
          "name": "stdout",
          "text": [
            "epoch: 1\n",
            "train_loss: 0.664, train_acc: 0.595\n",
            "valid_loss: 0.550, valid_acc: 0.717\n"
          ]
        },
        {
          "output_type": "stream",
          "name": "stderr",
          "text": [
            "training...: 100%|██████████| 37/37 [00:03<00:00, 12.02it/s]\n",
            "evaluating...: 100%|██████████| 13/13 [00:00<00:00, 23.97it/s]\n"
          ]
        },
        {
          "output_type": "stream",
          "name": "stdout",
          "text": [
            "epoch: 2\n",
            "train_loss: 0.568, train_acc: 0.728\n",
            "valid_loss: 0.494, valid_acc: 0.780\n"
          ]
        },
        {
          "output_type": "stream",
          "name": "stderr",
          "text": [
            "training...: 100%|██████████| 37/37 [00:03<00:00, 11.67it/s]\n",
            "evaluating...: 100%|██████████| 13/13 [00:00<00:00, 17.46it/s]\n"
          ]
        },
        {
          "output_type": "stream",
          "name": "stdout",
          "text": [
            "epoch: 3\n",
            "train_loss: 0.523, train_acc: 0.759\n",
            "valid_loss: 0.500, valid_acc: 0.787\n"
          ]
        },
        {
          "output_type": "stream",
          "name": "stderr",
          "text": [
            "training...: 100%|██████████| 37/37 [00:03<00:00, 11.07it/s]\n",
            "evaluating...: 100%|██████████| 13/13 [00:00<00:00, 23.94it/s]\n"
          ]
        },
        {
          "output_type": "stream",
          "name": "stdout",
          "text": [
            "epoch: 4\n",
            "train_loss: 0.496, train_acc: 0.781\n",
            "valid_loss: 0.473, valid_acc: 0.783\n"
          ]
        },
        {
          "output_type": "stream",
          "name": "stderr",
          "text": [
            "training...: 100%|██████████| 37/37 [00:03<00:00, 12.01it/s]\n",
            "evaluating...: 100%|██████████| 13/13 [00:00<00:00, 24.33it/s]\n"
          ]
        },
        {
          "output_type": "stream",
          "name": "stdout",
          "text": [
            "epoch: 5\n",
            "train_loss: 0.456, train_acc: 0.801\n",
            "valid_loss: 0.468, valid_acc: 0.806\n"
          ]
        },
        {
          "output_type": "stream",
          "name": "stderr",
          "text": [
            "training...: 100%|██████████| 37/37 [00:03<00:00, 11.97it/s]\n",
            "evaluating...: 100%|██████████| 13/13 [00:00<00:00, 18.85it/s]\n"
          ]
        },
        {
          "output_type": "stream",
          "name": "stdout",
          "text": [
            "epoch: 6\n",
            "train_loss: 0.435, train_acc: 0.814\n",
            "valid_loss: 0.469, valid_acc: 0.811\n"
          ]
        },
        {
          "output_type": "stream",
          "name": "stderr",
          "text": [
            "training...: 100%|██████████| 37/37 [00:03<00:00, 10.80it/s]\n",
            "evaluating...: 100%|██████████| 13/13 [00:00<00:00, 24.12it/s]\n"
          ]
        },
        {
          "output_type": "stream",
          "name": "stdout",
          "text": [
            "epoch: 7\n",
            "train_loss: 0.416, train_acc: 0.826\n",
            "valid_loss: 0.438, valid_acc: 0.825\n"
          ]
        },
        {
          "output_type": "stream",
          "name": "stderr",
          "text": [
            "training...: 100%|██████████| 37/37 [00:03<00:00, 11.23it/s]\n",
            "evaluating...: 100%|██████████| 13/13 [00:00<00:00, 24.13it/s]\n"
          ]
        },
        {
          "output_type": "stream",
          "name": "stdout",
          "text": [
            "epoch: 8\n",
            "train_loss: 0.385, train_acc: 0.844\n",
            "valid_loss: 0.472, valid_acc: 0.827\n"
          ]
        },
        {
          "output_type": "stream",
          "name": "stderr",
          "text": [
            "training...: 100%|██████████| 37/37 [00:03<00:00, 12.00it/s]\n",
            "evaluating...: 100%|██████████| 13/13 [00:00<00:00, 24.03it/s]\n"
          ]
        },
        {
          "output_type": "stream",
          "name": "stdout",
          "text": [
            "epoch: 9\n",
            "train_loss: 0.351, train_acc: 0.862\n",
            "valid_loss: 0.541, valid_acc: 0.815\n"
          ]
        },
        {
          "output_type": "stream",
          "name": "stderr",
          "text": [
            "training...: 100%|██████████| 37/37 [00:03<00:00, 10.58it/s]\n",
            "evaluating...: 100%|██████████| 13/13 [00:00<00:00, 24.08it/s]\n"
          ]
        },
        {
          "output_type": "stream",
          "name": "stdout",
          "text": [
            "epoch: 10\n",
            "train_loss: 0.333, train_acc: 0.867\n",
            "valid_loss: 0.635, valid_acc: 0.809\n"
          ]
        },
        {
          "output_type": "stream",
          "name": "stderr",
          "text": [
            "training...: 100%|██████████| 37/37 [00:03<00:00, 11.98it/s]\n",
            "evaluating...: 100%|██████████| 13/13 [00:00<00:00, 25.13it/s]\n"
          ]
        },
        {
          "output_type": "stream",
          "name": "stdout",
          "text": [
            "epoch: 11\n",
            "train_loss: 0.295, train_acc: 0.886\n",
            "valid_loss: 0.653, valid_acc: 0.816\n"
          ]
        },
        {
          "output_type": "stream",
          "name": "stderr",
          "text": [
            "training...: 100%|██████████| 37/37 [00:03<00:00, 12.03it/s]\n",
            "evaluating...: 100%|██████████| 13/13 [00:00<00:00, 24.06it/s]\n"
          ]
        },
        {
          "output_type": "stream",
          "name": "stdout",
          "text": [
            "epoch: 12\n",
            "train_loss: 0.282, train_acc: 0.890\n",
            "valid_loss: 0.595, valid_acc: 0.831\n"
          ]
        },
        {
          "output_type": "stream",
          "name": "stderr",
          "text": [
            "training...: 100%|██████████| 37/37 [00:03<00:00, 10.54it/s]\n",
            "evaluating...: 100%|██████████| 13/13 [00:00<00:00, 24.70it/s]\n"
          ]
        },
        {
          "output_type": "stream",
          "name": "stdout",
          "text": [
            "epoch: 13\n",
            "train_loss: 0.265, train_acc: 0.901\n",
            "valid_loss: 0.656, valid_acc: 0.819\n"
          ]
        },
        {
          "output_type": "stream",
          "name": "stderr",
          "text": [
            "training...: 100%|██████████| 37/37 [00:03<00:00, 11.96it/s]\n",
            "evaluating...: 100%|██████████| 13/13 [00:00<00:00, 24.76it/s]\n"
          ]
        },
        {
          "output_type": "stream",
          "name": "stdout",
          "text": [
            "epoch: 14\n",
            "train_loss: 0.244, train_acc: 0.909\n",
            "valid_loss: 0.606, valid_acc: 0.835\n"
          ]
        },
        {
          "output_type": "stream",
          "name": "stderr",
          "text": [
            "training...: 100%|██████████| 37/37 [00:03<00:00, 11.93it/s]\n",
            "evaluating...: 100%|██████████| 13/13 [00:00<00:00, 24.24it/s]\n"
          ]
        },
        {
          "output_type": "stream",
          "name": "stdout",
          "text": [
            "epoch: 15\n",
            "train_loss: 0.234, train_acc: 0.914\n",
            "valid_loss: 0.728, valid_acc: 0.818\n"
          ]
        },
        {
          "output_type": "stream",
          "name": "stderr",
          "text": [
            "training...: 100%|██████████| 37/37 [00:03<00:00, 10.84it/s]\n",
            "evaluating...: 100%|██████████| 13/13 [00:00<00:00, 19.19it/s]\n"
          ]
        },
        {
          "output_type": "stream",
          "name": "stdout",
          "text": [
            "epoch: 16\n",
            "train_loss: 0.225, train_acc: 0.916\n",
            "valid_loss: 0.526, valid_acc: 0.855\n"
          ]
        },
        {
          "output_type": "stream",
          "name": "stderr",
          "text": [
            "training...: 100%|██████████| 37/37 [00:03<00:00, 11.94it/s]\n",
            "evaluating...: 100%|██████████| 13/13 [00:00<00:00, 24.66it/s]\n"
          ]
        },
        {
          "output_type": "stream",
          "name": "stdout",
          "text": [
            "epoch: 17\n",
            "train_loss: 0.215, train_acc: 0.920\n",
            "valid_loss: 0.648, valid_acc: 0.837\n"
          ]
        },
        {
          "output_type": "stream",
          "name": "stderr",
          "text": [
            "training...: 100%|██████████| 37/37 [00:03<00:00, 11.90it/s]\n",
            "evaluating...: 100%|██████████| 13/13 [00:00<00:00, 24.62it/s]\n"
          ]
        },
        {
          "output_type": "stream",
          "name": "stdout",
          "text": [
            "epoch: 18\n",
            "train_loss: 0.188, train_acc: 0.931\n",
            "valid_loss: 0.730, valid_acc: 0.830\n"
          ]
        },
        {
          "output_type": "stream",
          "name": "stderr",
          "text": [
            "training...: 100%|██████████| 37/37 [00:03<00:00, 11.49it/s]\n",
            "evaluating...: 100%|██████████| 13/13 [00:01<00:00, 12.67it/s]\n"
          ]
        },
        {
          "output_type": "stream",
          "name": "stdout",
          "text": [
            "epoch: 19\n",
            "train_loss: 0.183, train_acc: 0.934\n",
            "valid_loss: 0.703, valid_acc: 0.836\n"
          ]
        },
        {
          "output_type": "stream",
          "name": "stderr",
          "text": [
            "training...: 100%|██████████| 37/37 [00:03<00:00, 11.49it/s]\n",
            "evaluating...: 100%|██████████| 13/13 [00:00<00:00, 23.76it/s]\n"
          ]
        },
        {
          "output_type": "stream",
          "name": "stdout",
          "text": [
            "epoch: 20\n",
            "train_loss: 0.166, train_acc: 0.943\n",
            "valid_loss: 0.702, valid_acc: 0.839\n"
          ]
        },
        {
          "output_type": "stream",
          "name": "stderr",
          "text": [
            "training...: 100%|██████████| 37/37 [00:03<00:00, 11.85it/s]\n",
            "evaluating...: 100%|██████████| 13/13 [00:00<00:00, 24.54it/s]\n"
          ]
        },
        {
          "output_type": "stream",
          "name": "stdout",
          "text": [
            "epoch: 21\n",
            "train_loss: 0.155, train_acc: 0.945\n",
            "valid_loss: 0.723, valid_acc: 0.837\n"
          ]
        },
        {
          "output_type": "stream",
          "name": "stderr",
          "text": [
            "training...: 100%|██████████| 37/37 [00:03<00:00, 11.62it/s]\n",
            "evaluating...: 100%|██████████| 13/13 [00:00<00:00, 17.06it/s]\n"
          ]
        },
        {
          "output_type": "stream",
          "name": "stdout",
          "text": [
            "epoch: 22\n",
            "train_loss: 0.147, train_acc: 0.949\n",
            "valid_loss: 0.805, valid_acc: 0.829\n"
          ]
        },
        {
          "output_type": "stream",
          "name": "stderr",
          "text": [
            "training...: 100%|██████████| 37/37 [00:03<00:00, 11.04it/s]\n",
            "evaluating...: 100%|██████████| 13/13 [00:00<00:00, 24.47it/s]\n"
          ]
        },
        {
          "output_type": "stream",
          "name": "stdout",
          "text": [
            "epoch: 23\n",
            "train_loss: 0.147, train_acc: 0.949\n",
            "valid_loss: 0.719, valid_acc: 0.846\n"
          ]
        },
        {
          "output_type": "stream",
          "name": "stderr",
          "text": [
            "training...: 100%|██████████| 37/37 [00:03<00:00, 11.82it/s]\n",
            "evaluating...: 100%|██████████| 13/13 [00:00<00:00, 24.21it/s]\n"
          ]
        },
        {
          "output_type": "stream",
          "name": "stdout",
          "text": [
            "epoch: 24\n",
            "train_loss: 0.130, train_acc: 0.957\n",
            "valid_loss: 0.715, valid_acc: 0.845\n"
          ]
        },
        {
          "output_type": "stream",
          "name": "stderr",
          "text": [
            "training...: 100%|██████████| 37/37 [00:03<00:00, 11.78it/s]\n",
            "evaluating...: 100%|██████████| 13/13 [00:00<00:00, 20.27it/s]\n"
          ]
        },
        {
          "output_type": "stream",
          "name": "stdout",
          "text": [
            "epoch: 25\n",
            "train_loss: 0.122, train_acc: 0.959\n",
            "valid_loss: 0.597, valid_acc: 0.862\n"
          ]
        },
        {
          "output_type": "stream",
          "name": "stderr",
          "text": [
            "training...: 100%|██████████| 37/37 [00:03<00:00, 10.59it/s]\n",
            "evaluating...: 100%|██████████| 13/13 [00:00<00:00, 24.18it/s]\n"
          ]
        },
        {
          "output_type": "stream",
          "name": "stdout",
          "text": [
            "epoch: 26\n",
            "train_loss: 0.116, train_acc: 0.961\n",
            "valid_loss: 0.895, valid_acc: 0.838\n"
          ]
        },
        {
          "output_type": "stream",
          "name": "stderr",
          "text": [
            "training...: 100%|██████████| 37/37 [00:03<00:00, 11.83it/s]\n",
            "evaluating...: 100%|██████████| 13/13 [00:00<00:00, 24.04it/s]\n"
          ]
        },
        {
          "output_type": "stream",
          "name": "stdout",
          "text": [
            "epoch: 27\n",
            "train_loss: 0.111, train_acc: 0.962\n",
            "valid_loss: 0.730, valid_acc: 0.855\n"
          ]
        },
        {
          "output_type": "stream",
          "name": "stderr",
          "text": [
            "training...: 100%|██████████| 37/37 [00:03<00:00, 11.76it/s]\n",
            "evaluating...: 100%|██████████| 13/13 [00:00<00:00, 23.62it/s]\n"
          ]
        },
        {
          "output_type": "stream",
          "name": "stdout",
          "text": [
            "epoch: 28\n",
            "train_loss: 0.109, train_acc: 0.961\n",
            "valid_loss: 0.787, valid_acc: 0.849\n"
          ]
        },
        {
          "output_type": "stream",
          "name": "stderr",
          "text": [
            "training...: 100%|██████████| 37/37 [00:03<00:00, 10.19it/s]\n",
            "evaluating...: 100%|██████████| 13/13 [00:00<00:00, 24.53it/s]\n"
          ]
        },
        {
          "output_type": "stream",
          "name": "stdout",
          "text": [
            "epoch: 29\n",
            "train_loss: 0.103, train_acc: 0.964\n",
            "valid_loss: 0.838, valid_acc: 0.846\n"
          ]
        },
        {
          "output_type": "stream",
          "name": "stderr",
          "text": [
            "training...: 100%|██████████| 37/37 [00:03<00:00, 10.90it/s]\n",
            "evaluating...: 100%|██████████| 13/13 [00:00<00:00, 23.99it/s]\n"
          ]
        },
        {
          "output_type": "stream",
          "name": "stdout",
          "text": [
            "epoch: 30\n",
            "train_loss: 0.093, train_acc: 0.969\n",
            "valid_loss: 0.834, valid_acc: 0.845\n"
          ]
        },
        {
          "output_type": "stream",
          "name": "stderr",
          "text": [
            "training...: 100%|██████████| 37/37 [00:03<00:00, 11.74it/s]\n",
            "evaluating...: 100%|██████████| 13/13 [00:00<00:00, 23.92it/s]\n"
          ]
        },
        {
          "output_type": "stream",
          "name": "stdout",
          "text": [
            "epoch: 31\n",
            "train_loss: 0.092, train_acc: 0.968\n",
            "valid_loss: 0.876, valid_acc: 0.842\n"
          ]
        },
        {
          "output_type": "stream",
          "name": "stderr",
          "text": [
            "training...: 100%|██████████| 37/37 [00:03<00:00, 10.25it/s]\n",
            "evaluating...: 100%|██████████| 13/13 [00:00<00:00, 23.87it/s]\n"
          ]
        },
        {
          "output_type": "stream",
          "name": "stdout",
          "text": [
            "epoch: 32\n",
            "train_loss: 0.086, train_acc: 0.973\n",
            "valid_loss: 0.877, valid_acc: 0.845\n"
          ]
        },
        {
          "output_type": "stream",
          "name": "stderr",
          "text": [
            "training...: 100%|██████████| 37/37 [00:03<00:00, 11.63it/s]\n",
            "evaluating...: 100%|██████████| 13/13 [00:00<00:00, 24.09it/s]\n"
          ]
        },
        {
          "output_type": "stream",
          "name": "stdout",
          "text": [
            "epoch: 33\n",
            "train_loss: 0.082, train_acc: 0.974\n",
            "valid_loss: 0.610, valid_acc: 0.872\n"
          ]
        },
        {
          "output_type": "stream",
          "name": "stderr",
          "text": [
            "training...: 100%|██████████| 37/37 [00:03<00:00, 11.63it/s]\n",
            "evaluating...: 100%|██████████| 13/13 [00:00<00:00, 24.45it/s]\n"
          ]
        },
        {
          "output_type": "stream",
          "name": "stdout",
          "text": [
            "epoch: 34\n",
            "train_loss: 0.076, train_acc: 0.976\n",
            "valid_loss: 0.952, valid_acc: 0.841\n"
          ]
        },
        {
          "output_type": "stream",
          "name": "stderr",
          "text": [
            "training...: 100%|██████████| 37/37 [00:03<00:00, 10.31it/s]\n",
            "evaluating...: 100%|██████████| 13/13 [00:00<00:00, 24.79it/s]\n"
          ]
        },
        {
          "output_type": "stream",
          "name": "stdout",
          "text": [
            "epoch: 35\n",
            "train_loss: 0.074, train_acc: 0.976\n",
            "valid_loss: 0.819, valid_acc: 0.855\n"
          ]
        },
        {
          "output_type": "stream",
          "name": "stderr",
          "text": [
            "training...: 100%|██████████| 37/37 [00:03<00:00, 11.60it/s]\n",
            "evaluating...: 100%|██████████| 13/13 [00:00<00:00, 23.81it/s]\n"
          ]
        },
        {
          "output_type": "stream",
          "name": "stdout",
          "text": [
            "epoch: 36\n",
            "train_loss: 0.065, train_acc: 0.978\n",
            "valid_loss: 0.793, valid_acc: 0.861\n"
          ]
        },
        {
          "output_type": "stream",
          "name": "stderr",
          "text": [
            "training...: 100%|██████████| 37/37 [00:03<00:00, 11.43it/s]\n",
            "evaluating...: 100%|██████████| 13/13 [00:00<00:00, 23.85it/s]\n"
          ]
        },
        {
          "output_type": "stream",
          "name": "stdout",
          "text": [
            "epoch: 37\n",
            "train_loss: 0.073, train_acc: 0.975\n",
            "valid_loss: 0.849, valid_acc: 0.852\n"
          ]
        },
        {
          "output_type": "stream",
          "name": "stderr",
          "text": [
            "training...: 100%|██████████| 37/37 [00:03<00:00, 10.15it/s]\n",
            "evaluating...: 100%|██████████| 13/13 [00:00<00:00, 22.98it/s]\n"
          ]
        },
        {
          "output_type": "stream",
          "name": "stdout",
          "text": [
            "epoch: 38\n",
            "train_loss: 0.059, train_acc: 0.981\n",
            "valid_loss: 0.986, valid_acc: 0.844\n"
          ]
        },
        {
          "output_type": "stream",
          "name": "stderr",
          "text": [
            "training...: 100%|██████████| 37/37 [00:03<00:00, 11.44it/s]\n",
            "evaluating...: 100%|██████████| 13/13 [00:00<00:00, 24.45it/s]\n"
          ]
        },
        {
          "output_type": "stream",
          "name": "stdout",
          "text": [
            "epoch: 39\n",
            "train_loss: 0.061, train_acc: 0.980\n",
            "valid_loss: 0.901, valid_acc: 0.850\n"
          ]
        },
        {
          "output_type": "stream",
          "name": "stderr",
          "text": [
            "training...: 100%|██████████| 37/37 [00:03<00:00, 11.45it/s]\n",
            "evaluating...: 100%|██████████| 13/13 [00:00<00:00, 24.45it/s]\n"
          ]
        },
        {
          "output_type": "stream",
          "name": "stdout",
          "text": [
            "epoch: 40\n",
            "train_loss: 0.062, train_acc: 0.981\n",
            "valid_loss: 0.914, valid_acc: 0.852\n"
          ]
        },
        {
          "output_type": "stream",
          "name": "stderr",
          "text": [
            "training...: 100%|██████████| 37/37 [00:03<00:00,  9.84it/s]\n",
            "evaluating...: 100%|██████████| 13/13 [00:00<00:00, 20.36it/s]\n"
          ]
        },
        {
          "output_type": "stream",
          "name": "stdout",
          "text": [
            "epoch: 41\n",
            "train_loss: 0.056, train_acc: 0.983\n",
            "valid_loss: 0.850, valid_acc: 0.856\n"
          ]
        },
        {
          "output_type": "stream",
          "name": "stderr",
          "text": [
            "training...: 100%|██████████| 37/37 [00:03<00:00, 11.46it/s]\n",
            "evaluating...: 100%|██████████| 13/13 [00:00<00:00, 23.41it/s]\n"
          ]
        },
        {
          "output_type": "stream",
          "name": "stdout",
          "text": [
            "epoch: 42\n",
            "train_loss: 0.046, train_acc: 0.985\n",
            "valid_loss: 0.981, valid_acc: 0.853\n"
          ]
        },
        {
          "output_type": "stream",
          "name": "stderr",
          "text": [
            "training...: 100%|██████████| 37/37 [00:03<00:00, 11.56it/s]\n",
            "evaluating...: 100%|██████████| 13/13 [00:00<00:00, 24.34it/s]\n"
          ]
        },
        {
          "output_type": "stream",
          "name": "stdout",
          "text": [
            "epoch: 43\n",
            "train_loss: 0.050, train_acc: 0.983\n",
            "valid_loss: 0.908, valid_acc: 0.856\n"
          ]
        },
        {
          "output_type": "stream",
          "name": "stderr",
          "text": [
            "training...: 100%|██████████| 37/37 [00:03<00:00, 10.81it/s]\n",
            "evaluating...: 100%|██████████| 13/13 [00:00<00:00, 16.33it/s]\n"
          ]
        },
        {
          "output_type": "stream",
          "name": "stdout",
          "text": [
            "epoch: 44\n",
            "train_loss: 0.047, train_acc: 0.985\n",
            "valid_loss: 0.875, valid_acc: 0.862\n"
          ]
        },
        {
          "output_type": "stream",
          "name": "stderr",
          "text": [
            "training...: 100%|██████████| 37/37 [00:03<00:00, 11.60it/s]\n",
            "evaluating...: 100%|██████████| 13/13 [00:00<00:00, 24.05it/s]\n"
          ]
        },
        {
          "output_type": "stream",
          "name": "stdout",
          "text": [
            "epoch: 45\n",
            "train_loss: 0.042, train_acc: 0.987\n",
            "valid_loss: 0.791, valid_acc: 0.863\n"
          ]
        },
        {
          "output_type": "stream",
          "name": "stderr",
          "text": [
            "training...: 100%|██████████| 37/37 [00:03<00:00, 11.46it/s]\n",
            "evaluating...: 100%|██████████| 13/13 [00:00<00:00, 23.69it/s]\n"
          ]
        },
        {
          "output_type": "stream",
          "name": "stdout",
          "text": [
            "epoch: 46\n",
            "train_loss: 0.046, train_acc: 0.986\n",
            "valid_loss: 0.875, valid_acc: 0.864\n"
          ]
        },
        {
          "output_type": "stream",
          "name": "stderr",
          "text": [
            "training...: 100%|██████████| 37/37 [00:03<00:00, 11.00it/s]\n",
            "evaluating...: 100%|██████████| 13/13 [00:00<00:00, 16.94it/s]\n"
          ]
        },
        {
          "output_type": "stream",
          "name": "stdout",
          "text": [
            "epoch: 47\n",
            "train_loss: 0.039, train_acc: 0.986\n",
            "valid_loss: 0.848, valid_acc: 0.862\n"
          ]
        },
        {
          "output_type": "stream",
          "name": "stderr",
          "text": [
            "training...: 100%|██████████| 37/37 [00:03<00:00, 11.25it/s]\n",
            "evaluating...: 100%|██████████| 13/13 [00:00<00:00, 23.65it/s]\n"
          ]
        },
        {
          "output_type": "stream",
          "name": "stdout",
          "text": [
            "epoch: 48\n",
            "train_loss: 0.037, train_acc: 0.989\n",
            "valid_loss: 0.795, valid_acc: 0.867\n"
          ]
        },
        {
          "output_type": "stream",
          "name": "stderr",
          "text": [
            "training...: 100%|██████████| 37/37 [00:03<00:00, 11.63it/s]\n",
            "evaluating...: 100%|██████████| 13/13 [00:00<00:00, 23.85it/s]"
          ]
        },
        {
          "output_type": "stream",
          "name": "stdout",
          "text": [
            "epoch: 49\n",
            "train_loss: 0.038, train_acc: 0.988\n",
            "valid_loss: 0.876, valid_acc: 0.863\n"
          ]
        },
        {
          "output_type": "stream",
          "name": "stderr",
          "text": [
            "\n"
          ]
        }
      ],
      "source": [
        "n_epochs = 50\n",
        "best_valid_loss = float(\"inf\")\n",
        "\n",
        "metrics = collections.defaultdict(list)\n",
        "\n",
        "for epoch in range(n_epochs):\n",
        "    train_loss, train_acc = train(\n",
        "        train_data_loader, model, criterion, optimizer, device\n",
        "    )\n",
        "    valid_loss, valid_acc = evaluate(valid_data_loader, model, criterion, device)\n",
        "    metrics[\"train_losses\"].append(train_loss)\n",
        "    metrics[\"train_accs\"].append(train_acc)\n",
        "    metrics[\"valid_losses\"].append(valid_loss)\n",
        "    metrics[\"valid_accs\"].append(valid_acc)\n",
        "    if valid_loss < best_valid_loss:\n",
        "        best_valid_loss = valid_loss\n",
        "        torch.save(model.state_dict(), \"lstm.pt\")\n",
        "    print(f\"epoch: {epoch}\")\n",
        "    print(f\"train_loss: {train_loss:.3f}, train_acc: {train_acc:.3f}\")\n",
        "    print(f\"valid_loss: {valid_loss:.3f}, valid_acc: {valid_acc:.3f}\")"
      ]
    },
    {
      "cell_type": "code",
      "execution_count": null,
      "metadata": {
        "id": "b360d0cd",
        "outputId": "4ec68246-e7c8-40c9-c1d8-38ad891d1e48",
        "colab": {
          "base_uri": "https://localhost:8080/",
          "height": 523
        }
      },
      "outputs": [
        {
          "output_type": "display_data",
          "data": {
            "text/plain": [
              "<Figure size 1000x600 with 1 Axes>"
            ],
            "image/png": "[encoded data removed]"
          },
          "metadata": {}
        }
      ],
      "source": [
        "fig = plt.figure(figsize=(10, 6))\n",
        "ax = fig.add_subplot(1, 1, 1)\n",
        "ax.plot(metrics[\"train_losses\"], label=\"train loss\")\n",
        "ax.plot(metrics[\"valid_losses\"], label=\"valid loss\")\n",
        "ax.set_xlabel(\"epoch\")\n",
        "ax.set_ylabel(\"loss\")\n",
        "ax.set_xticks(range(n_epochs))\n",
        "ax.legend()\n",
        "ax.grid()"
      ]
    },
    {
      "cell_type": "code",
      "execution_count": null,
      "metadata": {
        "id": "742a6855",
        "outputId": "8e38aa5d-a19e-4fa8-d6ce-b9a8438e6740",
        "colab": {
          "base_uri": "https://localhost:8080/",
          "height": 523
        }
      },
      "outputs": [
        {
          "output_type": "display_data",
          "data": {
            "text/plain": [
              "<Figure size 1000x600 with 1 Axes>"
            ],
            "image/png": "[encoded data removed]"
          },
          "metadata": {}
        }
      ],
      "source": [
        "fig = plt.figure(figsize=(10, 6))\n",
        "ax = fig.add_subplot(1, 1, 1)\n",
        "ax.plot(metrics[\"train_accs\"], label=\"train accuracy\")\n",
        "ax.plot(metrics[\"valid_accs\"], label=\"valid accuracy\")\n",
        "ax.set_xlabel(\"epoch\")\n",
        "ax.set_ylabel(\"loss\")\n",
        "ax.set_xticks(range(n_epochs))\n",
        "ax.legend()\n",
        "ax.grid()"
      ]
    },
    {
      "cell_type": "code",
      "execution_count": null,
      "metadata": {
        "id": "8b89f53f",
        "outputId": "08e56a26-126f-49f8-b8aa-8e04bc5039ff",
        "colab": {
          "base_uri": "https://localhost:8080/"
        }
      },
      "outputs": [
        {
          "output_type": "stream",
          "name": "stderr",
          "text": [
            "evaluating...: 100%|██████████| 49/49 [00:03<00:00, 15.68it/s]\n"
          ]
        }
      ],
      "source": [
        "model = LSTM(\n",
        "    vocab_size,\n",
        "    embedding_dim,\n",
        "    hidden_dim,\n",
        "    output_dim,\n",
        "    n_layers,\n",
        "    bidirectional,\n",
        "    dropout_rate,\n",
        "    pad_index, k=2\n",
        ")\n",
        "model.to(device)\n",
        "model.load_state_dict(torch.load(\"lstm.pt\"))\n",
        "\n",
        "\n",
        "test_loss, test_acc = evaluate(test_data_loader, model, criterion, device)"
      ]
    },
    {
      "cell_type": "code",
      "execution_count": null,
      "metadata": {
        "id": "10bc7bc3",
        "outputId": "d6d1505a-995b-4d66-f260-88e7c7156d7d",
        "colab": {
          "base_uri": "https://localhost:8080/"
        }
      },
      "outputs": [
        {
          "output_type": "stream",
          "name": "stdout",
          "text": [
            "test_loss: 0.461, test_acc: 0.810\n"
          ]
        }
      ],
      "source": [
        "print(f\"test_loss: {test_loss:.3f}, test_acc: {test_acc:.3f}\")"
      ]
    },
    {
      "cell_type": "code",
      "source": [
        "ret = []\n",
        "def capture_weights(model, input, output):\n",
        "  print(output)\n",
        "\n",
        "model = LSTM(\n",
        "    vocab_size,\n",
        "    embedding_dim,\n",
        "    hidden_dim,\n",
        "    output_dim,\n",
        "    n_layers,\n",
        "    bidirectional,\n",
        "    dropout_rate,\n",
        "    pad_index, k=2\n",
        ")\n",
        "model.load_state_dict(torch.load(\"lstm.pt\"))\n",
        "model.to(device)\n",
        "\n",
        "# model.gating_layer.register_forward_hook(capture_weights)\n",
        "# hook = model.register_forward_hook(capture_weights)\n",
        "test_loss, test_acc = evaluate(test_data_loader, model, criterion, device)\n",
        "# hook.remove()"
      ],
      "metadata": {
        "colab": {
          "base_uri": "https://localhost:8080/"
        },
        "id": "l4gOXwAQAWGl",
        "outputId": "de2b8c17-6f65-4eb4-e68a-5882d17d9015"
      },
      "execution_count": null,
      "outputs": [
        {
          "output_type": "stream",
          "name": "stderr",
          "text": [
            "evaluating...: 100%|██████████| 49/49 [00:02<00:00, 20.04it/s]\n"
          ]
        }
      ]
    },
    {
      "cell_type": "code",
      "source": [
        "print(f\"test_loss: {test_loss:.3f}, test_acc: {test_acc:.3f}\")"
      ],
      "metadata": {
        "colab": {
          "base_uri": "https://localhost:8080/"
        },
        "id": "v59ABQ75BqHX",
        "outputId": "54787282-a80c-420d-fb6b-8627595a582f"
      },
      "execution_count": null,
      "outputs": [
        {
          "output_type": "stream",
          "name": "stdout",
          "text": [
            "test_loss: 0.462, test_acc: 0.810\n"
          ]
        }
      ]
    },
    {
      "cell_type": "code",
      "execution_count": null,
      "metadata": {
        "id": "c07df383"
      },
      "outputs": [],
      "source": [
        "def predict_sentiment(text, model, tokenizer, vocab, device):\n",
        "    tokens = tokenizer(text)\n",
        "    ids = vocab.lookup_indices(tokens)\n",
        "    length = torch.LongTensor([len(ids)])\n",
        "    tensor = torch.LongTensor(ids).unsqueeze(dim=0).to(device)\n",
        "    prediction = model(tensor, length).squeeze(dim=0)\n",
        "    probability = torch.softmax(prediction, dim=-1)\n",
        "    predicted_class = prediction.argmax(dim=-1).item()\n",
        "    predicted_probability = probability[predicted_class].item()\n",
        "    return predicted_class, predicted_probability\n",
        "\n",
        "def predict_sentiment_with_expert(text, model, tokenizer, vocab, device):\n",
        "    expert_vec = None\n",
        "    def set_expert_vec(model, input, output):\n",
        "      nonlocal expert_vec\n",
        "      expert_vec = output\n",
        "\n",
        "    tokens = tokenizer(text)\n",
        "    ids = vocab.lookup_indices(tokens)\n",
        "    length = torch.LongTensor([len(ids)])\n",
        "    tensor = torch.LongTensor(ids).unsqueeze(dim=0).to(device)\n",
        "\n",
        "    hook = model.gating_layer.register_forward_hook(set_expert_vec)\n",
        "    prediction = model(tensor, length).squeeze(dim=0)\n",
        "    hook.remove()\n",
        "    probability = torch.softmax(prediction, dim=-1)\n",
        "    predicted_class = prediction.argmax(dim=-1).item()\n",
        "    predicted_probability = probability[predicted_class].item()\n",
        "    return predicted_class, predicted_probability, expert_vec"
      ]
    },
    {
      "cell_type": "code",
      "execution_count": null,
      "metadata": {
        "id": "8d9d591d",
        "outputId": "2cd4a191-1ec5-4f62-d0bc-5d1993162db6",
        "colab": {
          "base_uri": "https://localhost:8080/"
        }
      },
      "outputs": [
        {
          "output_type": "execute_result",
          "data": {
            "text/plain": [
              "(0,\n",
              " 0.7510334849357605,\n",
              " tensor([[0.0000, 0.0000, 0.4248, 0.5752]], device='cuda:0',\n",
              "        grad_fn=<SoftmaxBackward0>))"
            ]
          },
          "metadata": {},
          "execution_count": 74
        }
      ],
      "source": [
        "text = \"This film is terrible!\"\n",
        "\n",
        "predict_sentiment_with_expert(text, model, tokenizer, vocab, device)"
      ]
    },
    {
      "cell_type": "code",
      "source": [],
      "metadata": {
        "id": "LrpcFI2WFYLW"
      },
      "execution_count": null,
      "outputs": []
    },
    {
      "cell_type": "code",
      "execution_count": null,
      "metadata": {
        "id": "f392b05a",
        "outputId": "bf2a1e69-c581-45ea-ba1c-0058fb0b1bfa",
        "colab": {
          "base_uri": "https://localhost:8080/"
        }
      },
      "outputs": [
        {
          "output_type": "execute_result",
          "data": {
            "text/plain": [
              "(1, 0.8347806334495544)"
            ]
          },
          "metadata": {},
          "execution_count": 84
        }
      ],
      "source": [
        "text = \"This film is great!\"\n",
        "\n",
        "predict_sentiment(text, model, tokenizer, vocab, device)"
      ]
    },
    {
      "cell_type": "code",
      "execution_count": null,
      "metadata": {
        "id": "3196951d",
        "outputId": "a2221ee2-9f93-44b0-b74f-7abe8b38cbb7",
        "colab": {
          "base_uri": "https://localhost:8080/"
        }
      },
      "outputs": [
        {
          "output_type": "stream",
          "name": "stdout",
          "text": [
            "tensor([[ 0.0649, -0.2059]], device='cuda:0', grad_fn=<ViewBackward0>)\n"
          ]
        },
        {
          "output_type": "execute_result",
          "data": {
            "text/plain": [
              "(0, 0.5672767758369446)"
            ]
          },
          "metadata": {},
          "execution_count": 45
        }
      ],
      "source": [
        "text = \"This film is not terrible, it's great!\"\n",
        "\n",
        "predict_sentiment(text, model, tokenizer, vocab, device)"
      ]
    },
    {
      "cell_type": "code",
      "execution_count": null,
      "metadata": {
        "id": "c35aeb03",
        "outputId": "d3ff1b30-4e01-4834-b6cb-2d24725b1276",
        "colab": {
          "base_uri": "https://localhost:8080/"
        }
      },
      "outputs": [
        {
          "output_type": "stream",
          "name": "stdout",
          "text": [
            "tensor([[-0.2116,  0.1060]], device='cuda:0', grad_fn=<ViewBackward0>)\n"
          ]
        },
        {
          "output_type": "execute_result",
          "data": {
            "text/plain": [
              "(1, 0.5787439942359924)"
            ]
          },
          "metadata": {},
          "execution_count": 46
        }
      ],
      "source": [
        "text = \"This film is not great, it's terrible!\"\n",
        "\n",
        "predict_sentiment(text, model, tokenizer, vocab, device)"
      ]
    },
    {
      "cell_type": "markdown",
      "source": [
        "# Visualize\n",
        "- total number of records going into each experts\n",
        "- what kind of questions are going into what experts\n",
        "- also validate if weights for each expert are different or not? a. MAE b. distribution"
      ],
      "metadata": {
        "id": "b_cuoCCqM_lF"
      }
    },
    {
      "cell_type": "markdown",
      "source": [
        "## Expert Distribution"
      ],
      "metadata": {
        "id": "uUrLk8RqDVks"
      }
    },
    {
      "cell_type": "code",
      "source": [
        "model"
      ],
      "metadata": {
        "colab": {
          "base_uri": "https://localhost:8080/"
        },
        "id": "f0osONaj_h6O",
        "outputId": "62f6a163-df04-4bf5-b94c-0d4f656831dd"
      },
      "execution_count": null,
      "outputs": [
        {
          "output_type": "execute_result",
          "data": {
            "text/plain": [
              "LSTM(\n",
              "  (embedding): Embedding(21635, 300, padding_idx=1)\n",
              "  (lstm): LSTM(300, 100, batch_first=True)\n",
              "  (dropout): Dropout(p=0.5, inplace=False)\n",
              "  (expert_networks): ModuleList(\n",
              "    (0-3): 4 x Linear(in_features=100, out_features=2, bias=True)\n",
              "  )\n",
              "  (gating_layer): GatingLayer(\n",
              "    (linear_layer_router): Linear(in_features=100, out_features=4, bias=False)\n",
              "    (linear_layer_noise): Linear(in_features=100, out_features=4, bias=False)\n",
              "  )\n",
              ")"
            ]
          },
          "metadata": {},
          "execution_count": 47
        }
      ]
    },
    {
      "cell_type": "code",
      "source": [
        "(model.expert_networks[3].weight).abs().mean()"
      ],
      "metadata": {
        "colab": {
          "base_uri": "https://localhost:8080/"
        },
        "id": "YV0Bc3N2Anir",
        "outputId": "9c3cff41-c73e-4ea7-c67c-0ca5b58ebb50"
      },
      "execution_count": null,
      "outputs": [
        {
          "output_type": "execute_result",
          "data": {
            "text/plain": [
              "tensor(0.1113, device='cuda:0', grad_fn=<MeanBackward0>)"
            ]
          },
          "metadata": {},
          "execution_count": 48
        }
      ]
    },
    {
      "cell_type": "code",
      "source": [
        "(model.expert_networks[1].weight).abs().mean()"
      ],
      "metadata": {
        "colab": {
          "base_uri": "https://localhost:8080/"
        },
        "id": "kA9CCcY4Akyw",
        "outputId": "1c72f6cf-4820-4703-f9d5-30407b9f189a"
      },
      "execution_count": null,
      "outputs": [
        {
          "output_type": "execute_result",
          "data": {
            "text/plain": [
              "tensor(0.1132, device='cuda:0', grad_fn=<MeanBackward0>)"
            ]
          },
          "metadata": {},
          "execution_count": 49
        }
      ]
    },
    {
      "cell_type": "code",
      "source": [
        "(model.expert_networks[3].weight - model.expert_networks[1].weight).abs().mean()"
      ],
      "metadata": {
        "colab": {
          "base_uri": "https://localhost:8080/"
        },
        "id": "PMEaLjKb_kH6",
        "outputId": "9032cf21-c89f-4bd5-b7f8-e151533b1036"
      },
      "execution_count": null,
      "outputs": [
        {
          "output_type": "execute_result",
          "data": {
            "text/plain": [
              "tensor(0.1545, device='cuda:0', grad_fn=<MeanBackward0>)"
            ]
          },
          "metadata": {},
          "execution_count": 50
        }
      ]
    },
    {
      "cell_type": "markdown",
      "source": [
        "\n",
        "- Weights are not converging to a single point."
      ],
      "metadata": {
        "id": "t5NqMiph_mwV"
      }
    },
    {
      "cell_type": "markdown",
      "source": [
        "## What happens to tunable noise?"
      ],
      "metadata": {
        "id": "peAYo5AhADil"
      }
    },
    {
      "cell_type": "code",
      "source": [
        "model.gating_layer.linear_layer_noise.weight.abs().mean()"
      ],
      "metadata": {
        "colab": {
          "base_uri": "https://localhost:8080/"
        },
        "id": "0DLojv2MCcjn",
        "outputId": "a2dc8f28-c3ea-402a-be33-30d21288d3a7"
      },
      "execution_count": null,
      "outputs": [
        {
          "output_type": "execute_result",
          "data": {
            "text/plain": [
              "tensor(0.1018, device='cuda:0', grad_fn=<MeanBackward0>)"
            ]
          },
          "metadata": {},
          "execution_count": 51
        }
      ]
    },
    {
      "cell_type": "code",
      "source": [
        "model.gating_layer.linear_layer_router.weight.abs().mean()"
      ],
      "metadata": {
        "colab": {
          "base_uri": "https://localhost:8080/"
        },
        "id": "y4HWC-unCd3m",
        "outputId": "6553fc77-432f-48bd-d55f-a77d09bf91ca"
      },
      "execution_count": null,
      "outputs": [
        {
          "output_type": "execute_result",
          "data": {
            "text/plain": [
              "tensor(0.1154, device='cuda:0', grad_fn=<MeanBackward0>)"
            ]
          },
          "metadata": {},
          "execution_count": 52
        }
      ]
    },
    {
      "cell_type": "code",
      "source": [
        "records = []\n",
        "for rec in tqdm.tqdm(ttd):\n",
        "  cls, prob, expert = predict_sentiment_with_expert(rec['text'], model, tokenizer, vocab, device)\n",
        "  records.append({\n",
        "      \"text\": rec['text'],\n",
        "      \"label\": rec['label'],\n",
        "      \"prob\": prob,\n",
        "      \"cls\": cls,\n",
        "      \"expert\": expert.detach().cpu().numpy()[0],\n",
        "  })\n"
      ],
      "metadata": {
        "colab": {
          "base_uri": "https://localhost:8080/"
        },
        "id": "QvErAkkKEVBV",
        "outputId": "9e36c4b1-dc41-4051-d2b0-f9d7dd3496b7"
      },
      "execution_count": null,
      "outputs": [
        {
          "output_type": "stream",
          "name": "stderr",
          "text": [
            "100%|██████████| 25000/25000 [02:18<00:00, 181.15it/s]\n"
          ]
        }
      ]
    },
    {
      "cell_type": "code",
      "source": [
        "import pandas as pd\n",
        "df_test = pd.DataFrame(records)"
      ],
      "metadata": {
        "id": "ki6ZwGf9HpjJ"
      },
      "execution_count": null,
      "outputs": []
    },
    {
      "cell_type": "code",
      "source": [
        "# @markdown all experts are given almost similar samples\n",
        "\n",
        "np.sum([x['expert'] for x in records], axis=0)"
      ],
      "metadata": {
        "colab": {
          "base_uri": "https://localhost:8080/"
        },
        "id": "XPkbQa9DIaRL",
        "outputId": "940b68aa-97f9-453e-b745-76c46e72626f"
      },
      "execution_count": null,
      "outputs": [
        {
          "output_type": "execute_result",
          "data": {
            "text/plain": [
              "array([6154.4507, 7389.9517, 5245.819 , 6209.772 ], dtype=float32)"
            ]
          },
          "metadata": {},
          "execution_count": 113
        }
      ]
    },
    {
      "cell_type": "code",
      "source": [
        "for i in range(4):\n",
        "  s = sorted(records, key = lambda x: -x['expert'][i])\n",
        "  for p in s[:10]:\n",
        "    print(p['expert'], p['text'])\n",
        "\n",
        "  print(\"----\")"
      ],
      "metadata": {
        "colab": {
          "base_uri": "https://localhost:8080/"
        },
        "id": "AGXGrrnQH4-_",
        "outputId": "07b66a6f-4106-4060-9a89-129bcf416d7f"
      },
      "execution_count": null,
      "outputs": [
        {
          "output_type": "stream",
          "name": "stdout",
          "text": [
            "[0.92405546 0.         0.         0.07594452] For avid Sci-Fi fans this movie is just what you've been waiting for. Watching this movie gets you lost into the characters, especially Riddick, the movies bad guy. This is the case where you root for the bad guy and want to see him live and win. As you watch the survivors struggle to stay alive you long to see who lives and how they survive these unknown creatures that have taken over this planet. An excellent movie, Vin Diesel did a wonderful job as convict Riddick and the acting and suspense were ravishing.A+\n",
            "[0.9219297  0.         0.         0.07807028] several years ago i saw this film, without subtitles, on television, and despite me not understanding a word of what the characters were saying i still got the general idea, and the mood of the film fascinated me no ends.<br /><br />at long last i saw it again a few weeks ago. my heart skipped when i saw the picture in the television guide, and for 8 days until the film was really shown i told everybody i knew to go and see it. the story reminded me a bit of alfred hitchcock's vertigo. a slow, brooding film about a guy who one day believes he sees the girlfriend that disappeared years before. what follows is a wild rollercoaster ride of flashbacks, changing perspectives and really inventive twists in the plot, and at the end of the film i was left breathless. i had definitely not got what i had expected (and i had actually already seen the film!). be prepared to be confused.<br /><br />9 out of 10\n",
            "[0.91387665 0.08612334 0.         0.        ] Simply awful. I'm including a spoiler warning here only because of including a coupla jokes from the movie - there is nothing else to spoil, as it is already rotten. This dross was made during what must have been one of Sellers' \"For A Few Dollars More\" periods, when he'd participate in any crap for a few bucks. I'd seen this as a 15-year- old high school student in 1972, and loathed it then. No need to view it again; after 35 years I remember it now as one of the top five worst movies I'd seen as a kid. As I recall, Sellers had more of an ongoing cameo role than a lead here, but even his presence couldn't ameliorate the stale jokes, lame plot, and infantile repartee. One ongoing theme revolves around Sellers' use of his fingers: In one scene, he holds up his open hand to a group of medicos, and by folding down his fingers, enumerates the groups for which a hospital exists - the interns, the nurses, the administrators, etc. - until only his middle finger is left up, whereupon he says \"...and the patients!\" Har Har. In another scene, to avoid costly lab tests, he dips a finger into a urine sample and sticks it into his mouth to check for sugar, then exhorts the interns gathered around him to do the same, which they do. He then advises them that he'd placed his middle finger in the urine, but sucked on the index finger, and admonishes them to pay attention. Hee Hee. (The only reason that I remember this, and this movie, and am writing this review, is that a friend told me an even dumber version of this 'joke' today). If yu laik thiss, you gonna luv dis movey. If not, see 'Hospital', with George C. Scott (came out the same year, 1972) for some genuine, marvelous black medical humor. Better yet, read 'The House of God', by Samuel Shem, and if you can, see the movie version of it, which has never been released (please make a copy and send it to me - I'd love to finally see it).\n",
            "[0.90719247 0.         0.         0.09280759] I SELL THE DEAD (2009) **1/2 Dominic Monaghan, Larry Fessenden, Ron Perlman, Angus Scrimm, John Speredakos, Eileen Colgan, Brenda Cooney. Uneven blend of horror and comedy that poses as a valentine to the '60s horror films by Roger Corman and Hammer Studios, with two cretinous grave robbers (Monaghan and Fessenden) facing final punishments for the crimes via the guillotine but not before their tales of the occult can be recalled in flashbacks. Amusing and a few well sprinkled jolts but really a mess of a B-movie trying in vein to be a cult classic largely thanks to the casting of genre vets Perlman and Scrimm to no avail; a good rental for Halloween. (Dir: Glenn McQuaid)\n",
            "[0.90428776 0.         0.0957123  0.        ] Ok, so there's always people out there that seem to make it a point not to like movies because they're good, but instead choose to like movies based on how depressing or boring they can be, or whether they're from a foreign country. All that aside, One Crazy Summer is the perfect example of what a great American teen comedy should be. The jokes are a good mix of slapstick (a la Bobcat Goldthwait), surreal (Bobcat under the inspired direction of Steve Holland), and dry (John Cusack, one of the most morosely dry and funny actors in American cinema), and there is no character in this movie who does not deliver at least one funny line (ok, except Demi Moore).<br /><br />Yes, it's immature, yes, it's screw-ball, yes, Bobcat dresses up like Godzilla and trashes a scale-model of a seafood restaurant. It's also funny as hell. Watch it.\n",
            "[0.9017691  0.         0.         0.09823085] Barricade finds Alice Faye without any songs as a refugee trying to flee China and without passport. She's in a heap of trouble, I won't say what exactly, and even American extraterritoriality won't help her out.<br /><br />I mention that because one of the grievances that the Chinese including the bandits who attack the American mission in this story set deep in the Chinese interior was that particular institution whereby American citizens who committed crimes were tried by American courts set up by our consulates. We were far from the only country doing that however.<br /><br />Anyway the story opens with her on a train for Shanghai trying to use a hokey Russian accent. The accent intrigues Warner Baxter who's pretty plastered.<br /><br />Bandits however interrupt the journey and the two of them seek refuge in the American consulate presided over by Charles Winninger. He's the best one in the film and I only wish that a better story was given because I liked his character. He's a widower and a proud member of the consular service, appointed in 1900 by William McKinley. He requested a transfer ten years later and that's the last he was heard from. As Assistant Secretary of State Jonathan Hale aptly put it, he's the real forgotten man.<br /><br />Baxter does all right in a role that someone like Clark Gable would have done in his sleep at MGM. The heroics would have come more natural to Gable than to Baxter as the mission is barricaded and defended against the bandits.<br /><br />Alice Faye did have one number to sing. Why Alice's song was cut out, God and Zanuck only know. One thing I'm still trying to figure out is when the mission inhabitants take final refuge in the cellar with a trap door, just who was left upstairs to pull the rug over the cellar door? <br /><br />Barricade had the potential to be a lot better than it was. But sloppy editing and lost faith in the project made 20th Century Fox release a project unfulfilled. Watching Barricade is like eating a badly cooked meal.\n",
            "[0.895806   0.10419401 0.         0.        ] Dirty War is absolutely one of the best political, government, and well written T.V. Drama's in the 25 years.<br /><br />The acting is superb, the writing is spectacular.<br /><br />Diry War reveals the true side of why we are not ready to respond to a Nuclear, Biological, and Radiological Terrorist Attack here on American soil.<br /><br />Dirty War should be made into a major motion picture - It's that good! I highly recommend this great drama to everyone who desire to know the truth.<br /><br />This T.V. drama reveals how British Intelligence (MI5 & MI6) attempt to expose a terrorist plot and conspiracy to destroy innocent victims -because of England's involvement in the Iraq War.<br /><br />The scenes of different parts of London, England are also spectacular.<br /><br />Dirty War is a must see!!!\n",
            "[0.8941409  0.10585911 0.         0.        ] i am still not sure what the hell this movie is about. i guess the boy was afraid of becoming blind and began imagining all sorts of strange things. this does not explain why he wanted to kill his new baby brother , however , or the unrelenting boredom found within this film. while watching this movie you will wish you were blind so you did not have to see this experiment in futility. skip this steaming pile and opt for anything else at the video store ..... anything else.\n",
            "[0.88972497 0.         0.         0.11027501] Corny and some really bad acting but for a Golan-Globus film about right on par. Saw this movie back in 1985 mostly because I liked sword and sorcery films(what was i thinking?). Arnold is in it playing a high lord trying to make sure an ancient talisman is destroyed before it blows up the world.Brigitte Nielsen is the title character who at the time was Sly's girl and a pretty bad actress.Movie producers like to cast Playboy type women who cant act in low budget B movies. Brigitte cheeses it up as Sonya and Arnold acts wooden as Lord Kalidor.There is also Sandahl Bergman(who was in the original Conan movie as Valeria)here she plays the evil Queen Gedren,an obvious camp to her Conan role. And then one of the most irritating child actors onscreen(ernie reyes)as Prince Tarn who should have been slapped hard and sent to bed.What a little irritating scut. Some of the swordfights arent too bad but the music really sucks. Special effects are cheap and look very 70's ,like the explosion of the evil queen's castle at the climax of the movie. <br /><br />Overall a very low par film but b movie film buffs might like it for its campiness.\n",
            "[0.8885403  0.11145972 0.         0.        ] Not as bad as 1992's \"Nails\" (where Hopper plays an \"unstable\" cop) but pretty bad. How can a movie with such a great cast go so wrong? This film manages to find a way. The story was pretty stupid and Hopper's direction seemed like he had never directed before. All of the long shots in the beginning were bothersome. Lots of meaningless scenes with a lot of meaningless dialogue.\n",
            "----\n",
            "[0.         0.95940197 0.         0.04059807] After the failure of \"Hellraiser III: Hell On Earth,\" the chapter that served as a kind of 'death blow' to the franchise, another embarrassing cheapo cash-in did not come as a surprise. An abysmal attempt to explain every single mystery of Pinhead and the puzzle box, covering literally centuries of history, in a film that runs UNDER 90 minutes... On display is sub-par to wretched acting, sup-par to wretched B-movie special effects, and a ludicrous and insulting attempt at dark humour, while STILL attempting to keep the whole project completely serious. I'm wondering, how many freaking directors did this thing have? Poor Pinhead has SO MUCH screen time, that every bit of mystery and menace that this iconic character possessed, is completely lost. After an hour of hearing long-winded speeches and dramatic posturing, we simply want to tell the guy to shut up! mildly entertaining in spots, especially in the first segment, this mess begins to look and feel like a cheap, ugly made for TV splatter flick after a while, and ends in the most ridiculous way imaginable: Pinhead, along with his pet Cenobite dog, killing a bunch of idiots... in outer space! I'm sorry, but any true fan of the first two films in the series, that gave this abortion of a film more than 3 stars, should be ashamed. On a side note, the film that follows; \"Hellraiser: Inferno\" is actually a surprisingly intelligent, and stylishly-made film-noir piece, that brilliantly reinstates 'Pinhead' as a master of illusion and cruelty, and brings back the concept of the inherent evil in human kind, that was the centerpiece of the original film, and the whole point of the story. For any serious horror fan, see Hellraiser I & II, skip the lousy III & this one, and continue with 'Inferno.' You won't miss a thing by skipping this garbage...\n",
            "[0.04802758 0.9519724  0.         0.        ] This movie was the worst movie I've ever seen. No story, no point, it wasn't even funny at all, not sure why people say this movie is hilarious because it sucked SO much!! Felix Bean the main character sucked. Susanna sucked. This movie was made in 1996 and it really was set in the 80s. What else, I'm never letting my friend pick movies ever again. Hmm, the movie cover said it was from the producers from super troopers, who kidnapped them and stole their identities. Wow, what a waste of time. The only minute thing that was funny was Freaky Ricky, he was funny, especially when he and Emily ended up together. That was funny. All and all, it sucked, waste of time and sleep. Wow, never thought a movie like this could be made, so dumb for watching for watching it to the end.\n",
            "[0.         0.9485     0.         0.05150003] Snakes on a Train is a movie I rented due to the pure amusement of the thoughts I had, about the movie. Snakes on a Plane was an enjoyable Action film, so obviously the film makers wanted to cash in on the success, with this low budget effort. At 85 minutes, Snakes on a Train is almost unbearable to witness. I had to keep pausing the film to do something to entertain myself, due to the lack of happenings in the film. Throughout the duration of the film, it's never fully explained why this girl has this curse, or why she keeps coughing up this green/purplish goo constantly. Not only that, there is endless boring dialog of the two main characters, Brujo and Alma discussing how to get rid of the curse. I can appreciate low budget film-making. I'm truly not picky on movies, i'm open to any genre or budget, but Snakes On A Train is truly one of the worst Horror films I have ever seen. Were the writers on Acid or something at the end of this film?. Why did the woman suddenly turn into a giant snake? and most importantly how on earth was it able to devour the train?.<br /><br />Bottom line. Snakes on a Train is a movie that needs to be avoided at all costs. Don't be intrigued like I was by the title, this is a movie that's seriously bad. Let's put these snakes to rest<br /><br />0/10\n",
            "[0.06745444 0.93254554 0.         0.        ] Nurse Charlotte Beale(the lovely Rosie Holotik)has arrived to Dr. Stephens' clinic for the insane prepared for a new job. What she doesn't expect is to find another supposed doctor in his position after Stephens is attacked by axe-wielding maniacal \"judge\" Oliver W Cameron(..in a running gag, anytime he confronts a situation out of his control, he retreats to repeating his name). That doctor is Geraldine Masters(Annabelle Weenick)who isn't sure about whether Beale is a proper fit for their establishment. After a long discussion about the position(which is quite an awkward scene as the two debate about Beale's being sent a letter by Stephens getting a job at the clinic with Masters often reminding her that he is no longer in charge)Masters agrees to let her work in the nursing position, but the good Doctor may not be who she seems..<br /><br />The assortment of loonies includes Sam(Bill McGee)a simple-minded child-man who was Stephens' last victim of lobotomy, Jennifer(Harryette Warren)a woman who needs an adult to comfort her as she wallows at Masters' heel like a puppy, Danny(Jessie Kirby)a trouble-making annoyance often trying to steal the fake baby of disturbed Harriet(Camilla Carr), Allyson(Betty Chandler)a sexy nympho who just wants to be loved and hops at any man she sees, & \"Sergeant\" Jaffee(Hugh Feagin)your typical case of soldier who hasn't escaped the madness of war.<br /><br />The film shows Masters' unorthodox methods of running the clinic with allowing the patients to roam free with the doors to all rooms without locks calling into question..and, not to mention, the fact that Oliver is still allowed to walk around despite just chopping Dr. Stephens with an axe. And, what exactly happened to Dr. Stephens? Ah ha..<br /><br />Tacky 70's drive-in trash is a lot of fun if you are into a warped brand of cinema. I'm attracted to bizarre flicks about mental rejects because of their unpredictable nature..you just never know what the hell might happen, especially in this case where they are allowed to roam often unattended. Some consider the low budget a liability, but in the case of this film, I think it enhances the experience. With the cheap photography and weak production values(being shot for peanuts in a run down house in some awful location)it seems creepier and I felt like a voyeur peering into insanity through a camera lens on the outside looking in.\n",
            "[0.         0.9253932  0.         0.07460683] The scientist Charles and his wife (or assistant) Marissa receive some objects and a skull from an ancient Indian cemetery, and while cleaning a vase, they are attacked and murdered by a mysterious being, the Skeleton Man. Then, a military squad commanded by Captain Leary (Michael Rooker) seeks out two groups of four soldiers each that vanished in the jungle. They face the Skeleton Man, shooting him while he kills each soldier. Then the Skeleton Man goes to a power plant, and Captain Leary explodes the facility destroying the supernatural being.<br /><br />I bought \"Skeleton Man\" on DVD expecting to see a funny trash, but I found an awfully boring, annoying and senseless crap, with shoots and explosions. The imbecile story is totally disconnected and does not make any sense, and the military team is composed of imbeciles, insisting in shooting the supernatural Skeleton Man until they are totally slaughtered. Their leader is also the most stupid, with the blow-up of an entire facility in the end to destroy the supernatural rip-off of the extraterrestrial warrior Predator. On DVD, it is possible to use the fast forward button along the movie and reduce the suffering of the viewer. My vote is two.<br /><br />Title (Brazil): \"Skeleton Man\"\n",
            "[0.07796243 0.9220376  0.         0.        ] probably the worst creature feature ever,boa vs python was a million times better then this & that wasn't great either,bad acting,bad effects & guess what the DVD is one of those one with 3 hours of previews before the main menu.probably the least scary movie ever,no blood or violence,people are stupid and keep using pistols when they have no affect on these animals, the only cool part was the radioactive leeches that was pretty cool,i name of the island is just a rip off of Jurassic park boring tiring & not worth even looking at but i suppose the characters stupidity is pretty funny so it would make a good comedy film but definitely not a thriller\n",
            "[0.09033193 0.9096681  0.         0.        ] This is a family movie that was broadcast on my local ITV station at 1.00 am a couple of nights ago . This might be a strange decision on the part of the schedulers but THE REAL HOWARD SPITZ is a rather strange film , strange in the way it doesn't want to upset its audience . Come on there's nothing kids like more than sadism and that's why Roald Dahl was such a popular author for children . It also explains why DOCTOR WHO was such a successful show across the world . In this screenplay you're just dying for pulp fiction author to do something nasty to the kids but this doesn't happen . I'm not advocating child abuse but to see Howard Spitz lose his rag at the little ones would have made the movie rather better . Can you imagine how much worse KINDERGARTEN COP would have been if the producers had gone all PC ? I mean if you're making a movie centered around a children's author who hates children shouldn't the story show and not tell ? <br /><br />Much of the problem lies with director Vadim Jean and you do get the feeling he doesn't know how to handle the material which is bad news for the movie . As someone previously noted the soundtrack is haphazard and Kelsey Grammar is very wooden . I guess he was trying to play it dead pan just like in that show he's famous for but it fails to work here and there's many scenes with quiet ridiculous camera angles which seem unintentional but which are very distracting . But at the end of the day the main problem remains that the potential is ruined because no one wanted to offend the audiences sensibilities\n",
            "[0.         0.90838563 0.         0.09161439] I watched this movie, or part of it, in hope that it would be fun to laugh at how bad it was, but it soon became clear that this was just plain silly. For one you have the worst acting EVER! The lead \"actress\" Birgitte Nielsen is terrible, uninspired and hardly even attractive. And she certainly do not look like the female warrior who could easily kick some veteran warrior kings butt, but she does. And whats with the feminist attitude, it's plain hypocrisy. For one her family was killed by a women, then she joins some warrior school or something so she can learn how to fight men. She then joins up with a fat servant and his child king, whose city was destroyed by Gedren. Those two characters are just plain stupid and destroys the little of atmosphere that the movie managed to create. After this i could not take any more of Nielsen painful acting, and the stupid clichés and lack of some real action.<br /><br />Schwarzenegger as Kalidor was the only part of this movie which actually made it remotely watchable. <br /><br />I liked the Conan movie, but this is pure crap!\n",
            "[0.         0.90806615 0.         0.09193385] Well, at least this was the last sequel that I could find at Blockbuster, because this movie was just downright horrible. I mean, I can understand how hard it would be to get rid of an evil house. We're talking starting a horrible fire, bulldozing, flood, etc. But a mirror? How hard could it be can it be to get rid of a mirror?! This was the most horrible movie that could've put the title of Amityville into the picture! <br /><br />Well, a group of friends who are pretty much from the start, are a bunch of freaks. One of them is a photographer of some kind and buys a haunted mirror from a homeless creepy guy, teaching me a valuable lesson, don't buy things from homeless creepy guy. Of course, the horrible deaths and chaos ensues this group, though I can't imagine anyone missing them.<br /><br />Please, skip Amityville: A New Generation, I've already got a few complaints about my generation, so I think this was a premonition. Not to sound so crazy. :P But believe me, this is horribly acted, not well thought out, and not even scary! I feel so bad for the original writers of The Amityville Horror, they must be crying every time person witnesses this film.<br /><br />1/10\n",
            "[0.         0.90794134 0.         0.09205871] SPOILERS<br /><br />*<br /><br />*<br /><br />*<br /><br />*<br /><br />This is Tenchi?<br /><br />This is not Tenchi.<br /><br />Practically everyone is written horribly out of character ... When it comes to characterization, the only bright spot is the friendship between Ayeka and Ryoko.<br /><br />Also, the villainess is not punished for her actions, which amount to mind-control rape. If a male villain had done to one of the women what Haruna does to Tenchi, then he would have (rightfully so) painfully bought it at the end of the movie, dying horribly, and the audience would have cheered. But not only does Haruna pay no price for her crimes, Ryoko actually FORGIVES and UNDERSTANDS her actions. No! The real Ryoko would have disintegrated her for what Haruna had done to her beloved Tenchi; the audience I saw this with, myself included, all booed audibly at this scene<br /><br />Anime fans, avoid this movie. Tenchi fans, avoid this movie even harder.\n",
            "----\n",
            "[0.04393152 0.         0.9560685  0.        ] A wonderful family movie & a beautiful horse movie. 75+ %entertainment. Casey, Buddy, Kelly Marsh are very interesting and lovable characters. The horses are real beauties.<br /><br />Has the horse racing as a backdrop for showing how luck is sometimes nothing but some good commonsense. Shows how kids can do stupid things for stupid reasons. Shows how adults can do stupid things for selfish reasons. The very realistically portrayed characters transform the unrealistic theme of the film into something everyone can relate to.<br /><br />Andrew Rubin puts in a wonderful performance as Buddy,the sensible elder brother. Somewhat reminded me of Aidan Quinn(eyes, speech delivery, facial appearance). <br /><br />Casey makes you fall in love with the character because of the earnestness. Sarah Blue is also nicely portrayed by Alexis Smith. Lloyd Bourdelle, the father, is played by Walter Matthau and he IS the character.<br /><br />Though there is room for improvement in the movie, its a very enjoyable, feel-good movie.\n",
            "[0.         0.05531365 0.94468635 0.        ] I was in this movie as an extra in the Dallas filming in July 1975. Some of the things you see today,and take for granted in movie making, were implemented in this movie. The movie premise, the costumes, the special effects, the acting. It all was ahead of its time. It opened the door for movies such as \"Star Wars,\" the \"Terminator,\" the \"Matrix,\" and \"X-Men\" movies. Now people look at it and they say, \"Well this does not add up to this new special effects story...\" It did not have any computer graphics and such as the new movies do these days. It did have a story, and a wonderful cast, and a hell of a director! The places it was filmed like the Dallas' World Trade Center, and the Zale Building,and the Ft. Worth Water Gardens were at that time the most modern and futuristic backdrops in which to film. The director Michael Anderson was very creative and he tried to show a perfect future that was flawed by human desires and frailty's. It was my first film experience, the first of six films I have been in. Just because it was filmed in Texas does not make it any less a wonderful piece of filmmaker's art. Watch it again and appreciate it more. This movie was the foundation that set the standard for many great films that we now enjoy. Well, my hand is blinking... I got to run. Santuary awaits...\n",
            "[0.         0.06228393 0.93771607 0.        ] Even from the very commencing title of this movie I really love the artwork and canvas layout of one of the national islands of Japan. We see some great rolling green hills and some oriental houses of a coastal town. Instantly we are looking at the Pacific beauty on the widescreen of the theater. And to prove how great this film is, I have to say that Charles Darwin would be proud. Teachers of evolution classes and school sciences such as biology would fantastically favor Hayao Miyazaki's brand new movie entitled \"Ponyo\". The title character, as you will see, may be the perfect animation icon of media to be represented in all classrooms and auditoriums alike.<br /><br />Besides the scientific aspect of all this, let's dive into the blue waters of this exciting story. We have a skinny, old and powerful sorcerer named Fujimoto who lives in a submersible and is cynical of the urban expansion of mankind and their pollution of industrial waste. He wants to have complete control of the seas and the cute looking peaceful aquatic life including fish and organisms. Fujimoto, whose blood is composed to be half-human and half-amphibious, resembles both an ocean loving anti-hero and antagonist; similar to the James Bond villain Stromberg in The Spy Who Loved Me who operates an Atlantis-dubbed underwater city. <br /><br />His daughter, whom he treats like an over-cared-for pet, is named Ponyo. She is a large goldfish who already looks like a pretty red-haired girl. The father bans her from the real human world, claiming it to be dangerous and too much for her to handle. But quite frankly, Ponyo's exploratory curiosity is as strong as her amorous nature. Eventually with building strength, similar to wonderful scenes from Nick Park's \"Chicken Run\", she breaks free of her father's rocky and fossilized aquatic city and swims to the water surface of Japan, and to her luck and joy, falls into the caring hands of a youngster ship tanker captain named Sosuke. <br /><br />Living in an ocean front house at a neat looking beach (or boulder filled beach), Sosuke has two overworking parents, a senior home working mother Lisa and the first mate of a tanker barge Koichi. Lisa seems to be angry at her spouse for being away on a ship and leaving her with all the housework. Even more so, the black magic that is exerted by Ponyo causes an apocalyptic chain of events to occur: the moon approaches the Earth too closely and waves surge from the unbalancing of the tidal interaction forces, and humongous tsunami waves rack the peaceful but evacuated town. However what seems to underestimate this curse and seems literally more powerful than supernatural might is the love and tightly embraced friendship between the childish Captain Sosuke and the adorable red-headed Ponyo, who wants to be a sensitive human than just a preserved fish. Much like the frizzly haired and free-spirited hobbits in The Lord of the Rings, Ponyo grants me a slight reminder of that.<br /><br />I could write on and on about this amazing animated film, the best since \"Coraline\" which was in theaters in February. And right now, Hayao Miyazaki, feast your eyes on another 10 star grade from your animation fan, Graham Abraham. The year 2009 may be filled with dozens of animated films; however, Ponyo is the most towering film of many environmental beauties and should be dedicated as a new wonder of the world.\n",
            "[0.         0.06660131 0.93339866 0.        ] Keira Knightley and Sienna Miller stars in the story of two of the women in the life of Dylan Thomas. Knightley is Thomas's boyhood sweetheart he re-encounters during the Blitz. Meeting at a bar they reconnect, however things become complicated when Thomas' brings his wife (Miller) along the next time he meets her. The women hit it off and things proceed at pace until the trio are joined by the man who will become Knightly's husband. This further complicates things as jealousy begins to show its face.<br /><br />Beautiful to look at, extraordinarily written and wonderfully acted (everyone disappears completely into their roles) this is a sumptuous feast for the eyes and the ears. It's so nice to see a film about adults being adults. On a purely visceral level I really enjoyed watching the film because the film is so artistically pleasing. Rarely have I ever seen a film that is this beautifully crafted.<br /><br />The trouble with the film is I'm not entirely sure of everything that happened. Something seemed to be missing and a couple of times I had to replay the film to see if I missed something. Its not bad, but its not completely satisfying as a result. (I tried to look up on line to see how much of the film is true but I couldn't find anything) Still I think this is a film worth seeing. It's a beautiful film for adults with probably the best acting the leads have done.\n",
            "[0.         0.         0.92973745 0.07026255] The film deals with universal themes, mentioning no specific country as its context: it could happen anywhere--and has, in substance if not form. Those concerned about 1st amendment issues, censorship, et al--but don't want to be bored with lectures--need art such as this to illustrate, dramatize, teach, inspire.<br /><br />Rickman is certainly an under appreciated character actor; he shines in this film, showing off multiple acting talents that you must see (I have yet to see him give a bad performance, though, even in not-so-great films). Stowe gives perhaps her best performance (and proves that she possesses one of the most striking pair of eyes in Hollywood)--in two words: stunning, convincing.<br /><br />The set design perfectly matches the situation, in function and mood. The sound editing heightens to appropriate effect. The total contrast conveyed through the animation sequences is a perfect symbolic device-and the welcome and only respite to the bulk of the story's necessary venue. The script is tight and essential, with engagingly dramatic-yet realistic-dialogue (i.e., as it might be and ought to be). Perhaps the most amazing aspect to contend with is the fact that 1) this is the director's first time out; and 2) he is the writer. In one phrase: a tour de force--with three recommendations: see it, own a copy, see it repeatedly to fathom all its secrets and grasp all it genius.\n",
            "[0.0735882 0.        0.9264118 0.       ] Thank you Mario Van Peebles for informing us of not only the existence of black cowboys, but providing a compelling story that was easy to follow.<br /><br />The plot, backdrop, music and talent were all top notch. It was great that you used so many African-American artists to tell the tale of the black cowboy. It was also good to see Billy Zane in this movie. Does he ever play a good guy?<br /><br />I would highly recommend this film to anyone who wants to broaden their way of thinking. This is an excellent movie and I feel privileged to have seen it. Hopefully, you'll feel the same.\n",
            "[0.         0.0787805  0.92121947 0.        ] Telling the story wouldn't be the point at all, would it? Barnens ö, spelled almost like \"booné aww\" is the title for that brilliant novel of the late seventies that shocked a lot of people, including myself.<br /><br />Children's Island is the title, and what an island. In the book, Raine, the main character has The Guiness World Record Book as his own Bible. And he's keen on breaking new records himself. In particular the youngest person under water for three minutes.<br /><br />The story is, as most Swedish films and books of the time, deep, consciously provocative and awe inspiring. Bergman was beginning his final film and Cries and Whispers was barely out. expectations for any Swedish film were pretty high. They taught us then that great theatre, great actors, superb writers and gifted directors made a veritable team of perfection in cinema.<br /><br />All this said, Barnens Ö is a story of discovery. It is, too, a story of alienation: cities are alienating and living in one of them make us aliens to most of its residents. It is a story of revelations and sudden encounters with our own destiny. It is a film of overwhelming hope and desperation. Of feelings buried under layers and layers of isolation and insulation from a world that couldn't care less...<br /><br />This approach, in itself, is a pretty difficult way to weave a convincing narrative. Here, the masterful guidance of Kay Pollak on Ola Olsson's script of P C Jersilds novel, turns it not only in a possibility, but in one of those master pieces of cinema.<br /><br />I may disagree a bit with someone who said that this work was all but forgotten. It is not. Even as I write this in 2009, discussions on P C Jersild's story are conducted all over the world, and the film shown at many film schools and small theatres.<br /><br />Why? Waxing philosophical on all of it would be difficult and many have already done it scholarly through writing and lectures. The reason why Barnens Ö was and IS a special story is the cosy feeling you get from the start when you discover that everything is told through the eyes of a small child. And that's where it ends, too. Maybe it's a clinical view, as someone else pointed out. But deeply disturbing, moving and satisfying. The concept is deep: as long as we have no pubic hair, we still can live one more day as an angel. Afterwards, we'll become what Raine reflects as the colophon of his experiences: \"Men are Pigs\". He finds his fears when he's fearless. He finds love when the world is crumbling around him. He discovers a reason not to behave like the grown-ups because he refrains from committing crimes. He let go his inner purity and confidence in others without reservation, just to learn how rotten the soul of a man can be.<br /><br />Where love is expected, he finds hatred. Where compassion is needed, he finds suspicion and cold hearts. It's a film of metaphors. A film to think and to raise questions that are hard to ask but harder to answer.<br /><br />In the end, the satisfaction of witnessing such a superb work (that really upped the ante for any other Swedish film after) is a ride of joy and hope. Be aware that it is a film full with the dark side of our nature. But, alas!, a film of hope and deep joy. Reine will still be an Island in Stockholm, but there is the big hope of living today in full, even when we found our first signs of sexual maturity show.\n",
            "[0.07968387 0.         0.92031616 0.        ] In 1895, in a small village in Japan, the wife of the litter carrier Gisaburo (Takahiro Tamura), Seki (Kazuko Yoshiyuki), has an affair with a man twenty-six years younger, Toyiji (Tatsuya Fuji). Toyiji becomes jealous of Gisaburo and plots with Seki to kill him. They strangle Gisaburo and dump his body inside a well in the woods, and Seki tells the locals that Gisaburo moved to Tokyo to work. Three years later, the locals gossip about the fate of Gisaburo, and Seki is haunted by his ghost. The situation becomes unbearable to Seki and Toyiji when a police authority comes to the village to investigate the disappearance of Gisaburo.<br /><br />\"Ai no Borei\" is a surreal and supernatural love story. The remorse and the guilty complex of Seki make her see the ghost of her murdered husband, spoiling the perfect plot of her lover. The cinematography is jeopardized by the quality of the VHS released in Brazil, but there are very beautiful scenes, inclusive \"Ringu\" and the American remake \"The Ring\" use the view of the well from inside in the same angle. The performances and direction are excellent making \"Ai no Borei\" a great movie. My vote is eight.<br /><br />Title (Brazil): \"O Império da Paixão\" (\"The Empire of Passion\")\n",
            "[0.         0.08013189 0.91986805 0.        ] The Man with the Golden Arm was one of the first films to have as its main topic (and, in some respects, the message) the tragedy of heroin addiction. It's nowhere near a great film, but its importance lies in Otto Preminger's dedication to making it feel real and on the edge of melodrama and naturalism. What I liked is that it's not so much an expose of junkies (if you want the best expose of that read Naked Lunch, if you can get through it anyway, besides the point), but the nature of the urban environment Frankie Machine lives. He expects after he gets out of prison for dealing to go on the straight and narrow, to become a drummer in a band and make it legit as a musician. But he has his \"crippled\" wife Zosch, who can't work and needs money and often complains, and then there's the old neighborhood- he can't escape seeing Louie (Darren McGavin), who is still doing back-room card games and, yes, pushing dope. Like Mean Streets, it's hard to escape the minutia unless you leave.<br /><br />But then again, it's hard for Frankie Machine not to try and operate naturally in this urban quarter. It's just that he can't escape the temptation of junk (when he's booked on a phony theft charge with his friend, he sees a junkie freaking out, and it puts back the fear of going back on into his clean self). And personifying Frankie is Sinatra, and I can't see anyone else who could've played him, even original choice Brando. He fits into the neighborhood, and seems like the kind of guy who should be a step ahead of the game. But there's also a vulnerability to Sinatra that he pulls out wonderfully, and by the time we see him going 'cold turkey' in Molly's apartment, it's believable even if it's not the kind of thing those from 'my' generation would think of heroin (i.e. Trainspotting and certainly Requiem for a Dream). If for nothing else, you want to watch the movie to see what happens to Sinatra as this character.<br /><br />The flaws, however, come in some of the other performances, though it's a little tricky. Eleanor Parker seems to be overacting for a good portion of the movie, fooling Frankie that she's really crippled when in reality she can walk and is fooling him for one reason or another. But then it becomes clearer as it goes along- she's supposed to be nuts, and nuts with jealousy, and on that level it starts to get better. Meanwhile, Kim Novak is good, though not Vertigo-worthy, as the possible girl in the side but more like the voice of reason in the story. Then there's a Detective Bendar, who might be one of the most one-note characters/performances, ever. And also Sparrow, Frankie's nerdy friend, and the characters of Louie and Schiefka, and they're all played as one might expect them to (actually, McGavin is better than OK). As far as casting other talent around Sinatra, Preminger doesn't do all that great. And, frankly, some scenes kind of fall flat.<br /><br />But there's a lot of fascination in the Man with the Golden Arm, and not just as some dated piece of sociological interest. It works as compelling drama, and as a message piece conveyed without being preachy or campy. It's a genuine article, just not exceptional.\n",
            "[0.         0.         0.9113735  0.08862646] I watched this show until my puberty but still I found it to reflex many situations that worry us when we're teenagers although it was a family oriented show. Until the mid 90's it focused more on the young adults and their situations.<br /><br />That's why I loved \"Step By Step\". I mean, it offered situations for every age and unlike many shows of it's kind, it delivered expectations.<br /><br />Let's be honest; this wasn't an extremely funny show, no, but it had some situations that you could feel related to but only funnier.<br /><br />There was an extremely good charm between Patrick Duffy and Susan Sommers. Duffy rocked! Sommers was tender and actually funny. I was in love with Stacy Keegan because she was extremely sexy (loved her legs) and witty. But Sasha Mitchell stole the show with his Cody character. He was the man back in the day! Oh, the memories. Nowadays, this show wasn't been able to adequate correctly on the new generations and that's why it should be kept in the vault of memories. That's it, only memories.<br /><br />Thank you Step By Step for making my puberty funnier.\n",
            "----\n",
            "[0.         0.         0.05617908 0.94382095] I really liked this movie. One thing I have noticed is that Korean TV drama's are way better, as far as giving you the whole story. I watch movies when I do not have the time or feel like going through 16-30 episodes. Movies are seem to be rushed and if you do not watch carefully, you may miss something. <br /><br />I do feel this one was rushed and I had to rewind a few parts to try and find what I missed, especially towards at the end. If you like nice love stories, I still think this is cute, and if yo have the extra time, I still think this is worth watching.<br /><br />It is always nice to go back follow the actors in different movies as we do not get to follow them from when they begin, as we do the actors producers and directors in our own countries.\n",
            "[0.         0.06096051 0.         0.9390395 ] If you have few expectations, then this will entertain for 90 minutes. My problem is that they've dumbed down this tale for the modern audience. Highwaymen are already sexy, exciting characters. They don;t need the techno soundtrack and snappy dialogue.\n",
            "[0.         0.         0.06268331 0.9373167 ] Where do I start? The box should have been enough to keep me away from this attempt, but I'd been taught early on not to judge a book (or movie) by its cover, so I ignored the disgusting graphic quality of the box and rented it anyway. But common sense should tell you that if they can't do a single still image properly, then how dismal will the moving ones be, later? Yeah. They were pretty awful.<br /><br />The actors in this flick appeared totally unaware they were being filmed, as just any expression seemed to do fine, regardless of the situation the characters were in or what they were reacting to.<br /><br />However, a good story can offset the downfalls of low budget productions. Good dialog can carry a poorly-funded attempt at times. Unfortunately, this was not one of those times, as the story was as weak and nonexistent as the other required elements of good cinema.<br /><br />There simply aren't words for how bad this was. <br /><br />Perhaps you can get the idea from my rating of -2.3/10 from...<br /><br />the Fiend :.\n",
            "[0.06787874 0.         0.         0.9321212 ] This is my first Almodavar film. I'll confess we chose it mainly because we knew this had the enticing prospect of Antonio Banderas in gay sex scenes.<br /><br />Unfortunately, that is about all that this film has to recommend it. I consider myself a fairly sophisticated viewer, I like European films, \"art\" films, and I am generally able to recognize a quality film even if it is not to my particular taste.<br /><br />But this film was a complete blank to me. The plot was ridiculous, the characters lifeless, the box called it a \"hilarious comedy\" but I didn't laugh once. Loosly and awkwardly constructed, with a lot of pointless dialogue. I don't get this at all-- it seems like an amateurish effort. Can someone enlighten me?\n",
            "[0.08756694 0.         0.         0.912433  ] A thinly veiled attempt to push Hulkamania to the film going non-wrestling fan. What could be worse than Hogan in the movies? Bad actors in the wrestling ring, and this film produced both, as Tiny Lester made his way to the WWE that summer in the mother of all promotional blunders. See the dictionary under Oops. As a card carrying member of the stupid kids of the world paid to see this in theaters and when I came out I immediately checked into H.A. - Hulkamaniacs Annoynimous. I am proud to say I have been off the Hulk for 17 years now and have never had a craving since. Since this was made to bring in more fans to the juggernaut that was the WWE in Hogans hey day one has to wonder if there weren't more fans like me who turned to other past times that did not poison ones mind like this offense to celluloid did, such as huffing gas or Russian Roulette.\n",
            "[0.09617542 0.         0.         0.90382457] I know everyone said this movie was utter crap and I agree with them. I spent a few years after seeing it telling other people it was crap. I recommended they not see it. But when it came on TV, we saw the ad. I turned to family and said: \"I know this is sad, but I'm thinking of watching it\". My sister turned to me and said: \"Yeah, me too.\" And you know what? It was funny.<br /><br />By no means is this a good movie. It's absolutely a waste of time. But it's a good waste of time. You may still think it's crap and fair enough, but I thought it was a really funny slapstick comedy. I didn't like a couple of bits, like when the fish got hit by the car, but apart from that I thought it was good. I loved sitting there and picking out all the famous Australian faces: Flacco, Elle McFeast, Garry McDonald etc.<br /><br />So, if you like to waste your time, watch this movie. Otherwise, see a drama or something.\n",
            "[0.09926587 0.         0.         0.9007341 ] Korine's established himself, by now, as a talented and impressive image-maker. The promotional posters for Mister Lonely all include the film's most impressive compositions (though there's one in particular I've yet to see in promo material: that of a blue-clad nun teasing a dog with a stick, surrounded by green forest with torrential rain pouring down). The opening images of this film, of Michael Jackson lookalike (Diego Luna) riding a small motorbike round a track, is strangely compelling and beautiful: Roy Orbison's \"Mister Lonely\" plays on the soundtrack, and the images unfold in slow-motion. There's also a funny and terrific sequence in which the same character mimes a dance, without music (though a radio sits like a silent dog next to him), in the middle of a Paris street; Korine splices in sound effects and jump-cuts that evoke both a feeling of futility and dogged liberation in the character's dance routine.<br /><br />The first instance of the segment dealing with the nuns is also strangely poignant; Father Umbrillo (Werner Herzog) is an autocratic priest about to fly with some nuns over, and drop food into, impoverished areas nearby. In a scene that is both light-hearted and affecting, Herzog must deal with a stubbornly enthusiastic local who wishes to make the plane trip with them in order to see his wife in San Francisco. As the exchange develops, Herzog draws out of the man a confession: he has sinned, and his frequent infidelity is the cause of his wife having left him in the first place. This scene, short and sweet, gains particular weight after one learns its improvised origins: the sinner is played by a non-actor who was on set when Korine and co. were filming - and his adulterous ways had given him, in real life, a lasting, overwhelming guilt.<br /><br />Henceforth, the film is hit-and-miss; a succession of intrinsically interesting moments that add to a frivolous, muddled narrative. Whereas Gummo and Julien Donkey-Boy maintain their aesthetic and emotional weight via coherent structural frameworks, Mister Lonely feels like a victim of editing room ruthlessness. A few scenes were cut from the film, which would have otherwise painted fuller pictures of certain characters, due to continuity errors in costume - a result, no doubt, due to the absence of a shooting script and Korine's tendency for improvisation. One deleted scene in particular - in which 'Charlie Chaplin' (Denis Lavant) and 'Madonna' (Melita Morgan) have sex - would have added much more emotional conflict to a scene later on in the film (I won't spoil it, but it's there to deflate any feeling of warmth or celebration, and, as it is, only half-succeeds).<br /><br />The two strands of the narrative, unconnected literally, are best approached as two entirely different stories with the same allegorical meaning; one compliments the other and vice versa. (It's something to do with the conflict between one's ambitions and the reality of the current situation.) But there's not enough of the Herzog scenes to merit their place in the film, and so any connection between these two allegorically-connected threads is inevitably strained - and the inclusion is, in retrospect, tedious.<br /><br />This is an ambitious step forward from Julien Donkey-Boy that suffers mostly, at least in the lookalike segments, from having far too many characters for the film's running length, a flaw that would have been even worse had big star names played everyone (as was originally planned).<br /><br />With many of the imagery's self-contained beauty, and moments of real, genuine connection with the soundtrack, this feels like it'd be much more suited to an art installation or photo exhibition. As an exploration of mimesis and the nature of impersonation, it'd lose none of its power - indeed, for me, it would perhaps be more impressive. The loneliness attached to iconic performativity (such as that encountered by both the icons themselves and those who aspire to be like them) is well-captured in images such as that wherein 'Marilyn Monroe' (a gorgeous Samantha Morton) seduces the camera with a Seven Year Itch pose in the middle of a forest, or when 'Sammy Davis, Jr.' (Jason Pennycooke) settles, post-dance rehearsal, with his back to the camera overlooking an incredible, tranquil lake.<br /><br />As it is, moments like these, and all those where the titles of randomly-chosen Michael Jackson songs crawl across the scene, are married to one another in a film narrative far less affecting than it should be.<br /><br />(For those who see it, I lost all faith during the egg-singing scene, late on. You'll know which scene I mean because it sticks out like a sore thumb, as some sort of gimmicky attempt at the new cinematic language for which Korine has previously been hailed.)\n",
            "[0.09945291 0.         0.         0.9005471 ] The Midnight Hour AKA: Tell Me No Lies (as found in some video stores) can be judged in two different ways. One by it's Merritt as a movie, complete with a plot (no holes), good story and believable conclusion and the other is by the skin flick it is trying to be. This is certainly no more than a B-Movie skin flick, whose sole purpose is to show every girl in the movie in an overly long sex scene at least once.<br /><br />If you try to rate this as a regular movie, then this is bottom of the line drivel. HUGE plot holes ruin whatever storyline it has going for it. For instance, if a co-worker is killed, would you call the police or head home and hit the hot tub? Judging this movie by it's skin content, it's watchable... barely. The girls, for the most part, are all beautiful but quite obviously enhanced. The sex scenes were all long and overdone, though, and that made it's only redeeming quality a little boring.<br /><br />Amber Smith could probably be a decent actress if she wanted. She was not as horrible as you could imagine or maybe next to the rest of the cast, she seemed a lot better than she was.<br /><br />Zoe Anderson, who played Detective Arraya, should not even be watching a movie, much less acting in one. She looked good though, so we know why she was there.<br /><br />Overall, I would not really recommend this to anyone. Even if you're looking for a good skin flick, there are much better one's out there. I rate this 4 out of 10\n",
            "[0.         0.         0.09967818 0.9003218 ] Saw the movie last night w/o knowing anything about it (nothing else out seemed interesting and I had a Buffalo connection to this movie - UB grad). It was a very enjoyable movie. Liked the pace (it picks up after a slow beginning) and story. Well written plot and good character development and relationships. Highly recommend it to anyone who likes to see movies that have interesting stories. Found myself talking about this movie afterwards over a few beers - most discussions don't last more than a few minutes.\n",
            "[0.         0.10016499 0.         0.899835  ] The action scenes was quite good. But the plot of the movie, I would have to give it a score of 1 out of 10. It seems that the producers and director of this movie didn't thought about it carefully?<br /><br />It doesn't give much value and values to it's viewers except for it's violence. The entire story was about revenge. A boy witnessing a rape and murder. I would even recommend it to be banned. Those who watched it, you've just lose some money. If you're thinking of watching it, watch something else. I would ask for a refund if I was on a movie theater. So for you guys and girls out there reading this article. Please don't waste time.\n",
            "----\n"
          ]
        }
      ]
    },
    {
      "cell_type": "code",
      "source": [
        "df_test.to_csv('test.csv')"
      ],
      "metadata": {
        "id": "-eCtxP7zHoYu"
      },
      "execution_count": null,
      "outputs": []
    },
    {
      "cell_type": "markdown",
      "source": [
        "# Learning\n",
        "- No specific pattern is currently visible in the experts. This could be because\n",
        "  - maybe we have trained for less number of epoch. but the model has already to overfit as evident from train and val curve\n",
        "  - the task is simply for the network: The sentiment classification in this dataset if too easy for this network to learn. Since the task is simply the LSTM itself is able to learn easily and thus no need for experts. Thus any expert can be used to generate for any sample. Validate this hypothesis.\n",
        "  - Missing Loss Components: generally MoE layers are trained with auxilary losses which focuses on sparsity and load balancing. We have not added any such loss which could lead to inappopriate training of model  \n",
        "- MoE works well for complex task with large amount of data i.e. like LLM pretraining and finetuning"
      ],
      "metadata": {
        "id": "qtRzey7MHbV4"
      }
    },
    {
      "cell_type": "code",
      "source": [],
      "metadata": {
        "id": "8gCtjvL_ImE0"
      },
      "execution_count": null,
      "outputs": []
    }
  ]
}